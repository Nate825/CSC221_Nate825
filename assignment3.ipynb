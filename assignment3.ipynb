{
  "nbformat": 4,
  "nbformat_minor": 0,
  "metadata": {
    "colab": {
      "provenance": [],
      "authorship_tag": "ABX9TyMpVtDnFpw/fKhAK/Q/3hAV",
      "include_colab_link": true
    },
    "kernelspec": {
      "name": "python3",
      "display_name": "Python 3"
    },
    "language_info": {
      "name": "python"
    }
  },
  "cells": [
    {
      "cell_type": "markdown",
      "metadata": {
        "id": "view-in-github",
        "colab_type": "text"
      },
      "source": [
        "<a href=\"https://colab.research.google.com/github/Nate825/CSC221_Nate825/blob/main/assignment3.ipynb\" target=\"_parent\"><img src=\"https://colab.research.google.com/assets/colab-badge.svg\" alt=\"Open In Colab\"/></a>"
      ]
    },
    {
      "cell_type": "code",
      "execution_count": 2,
      "metadata": {
        "colab": {
          "base_uri": "https://localhost:8080/"
        },
        "id": "P_qUskCIUbBd",
        "outputId": "5a30d1e6-cd9b-4955-d212-39b2879819f9"
      },
      "outputs": [
        {
          "output_type": "stream",
          "name": "stdout",
          "text": [
            "Hello Colab\n"
          ]
        }
      ],
      "source": [
        "message = \"Hello Colab\"\n",
        "print(message)"
      ]
    },
    {
      "cell_type": "code",
      "source": [
        "message = \"Hello Colab\"\n",
        "print(message)\n",
        "\n",
        "message = \"Hello World\"\n",
        "print(message)"
      ],
      "metadata": {
        "colab": {
          "base_uri": "https://localhost:8080/"
        },
        "id": "ZSXJffY0U_Wt",
        "outputId": "5c4e3777-ebee-4370-e921-cf396cfcdca0"
      },
      "execution_count": 3,
      "outputs": [
        {
          "output_type": "stream",
          "name": "stdout",
          "text": [
            "Hello Colab\n",
            "Hello World\n"
          ]
        }
      ]
    },
    {
      "cell_type": "code",
      "source": [
        "name = \"Nate Butkus\"\n",
        "message = f\"Hello, {name.title()} would you like to learn some python today\"\n",
        "print(message)"
      ],
      "metadata": {
        "colab": {
          "base_uri": "https://localhost:8080/"
        },
        "id": "SO7JbD9gVW3N",
        "outputId": "a1641b57-08c6-45fc-cb96-25f600452258"
      },
      "execution_count": 16,
      "outputs": [
        {
          "output_type": "stream",
          "name": "stdout",
          "text": [
            "Hello, Nate Butkus would you like to learn some python today\n"
          ]
        }
      ]
    },
    {
      "cell_type": "code",
      "source": [
        "name = \"Nate Butkus\"\n",
        "print(name.upper())\n",
        "print(name.lower())\n",
        "print(name.title())\n",
        "\n"
      ],
      "metadata": {
        "colab": {
          "base_uri": "https://localhost:8080/"
        },
        "id": "4oklToric2ci",
        "outputId": "8834c64a-65af-4c1a-d7d2-09d7f71b2fd2"
      },
      "execution_count": 17,
      "outputs": [
        {
          "output_type": "stream",
          "name": "stdout",
          "text": [
            "NATE BUTKUS\n",
            "nate butkus\n",
            "Nate Butkus\n"
          ]
        }
      ]
    },
    {
      "cell_type": "code",
      "source": [
        "name = \"Jordan Sanders\"\n",
        "quote = '\"Low hanging fruit is normally rotten\"'\n",
        "print(f\"{name},once said {quote}\")\n"
      ],
      "metadata": {
        "colab": {
          "base_uri": "https://localhost:8080/"
        },
        "id": "kUMB1dLUh5oh",
        "outputId": "0ffcbf55-2523-4ab1-8e69-cf2861f0128c"
      },
      "execution_count": 23,
      "outputs": [
        {
          "output_type": "stream",
          "name": "stdout",
          "text": [
            "Jordan Sanders,once said \"Low hanging fruit is normally rotten\"\n"
          ]
        }
      ]
    },
    {
      "cell_type": "code",
      "source": [
        "Famous_person = \"Jordan Sanders\"\n",
        "quote = '\"Low hanging fruit is normally rotten\"'\n",
        "message = (f\"{Famous_person},once said {quote}\")\n",
        "print(message)"
      ],
      "metadata": {
        "colab": {
          "base_uri": "https://localhost:8080/"
        },
        "id": "gJwSvwnGjNmB",
        "outputId": "0f488dea-34d2-4bd8-e4b0-33a21dc599c4"
      },
      "execution_count": 24,
      "outputs": [
        {
          "output_type": "stream",
          "name": "stdout",
          "text": [
            "Jordan Sanders,once said \"Low hanging fruit is normally rotten\"\n"
          ]
        }
      ]
    },
    {
      "cell_type": "code",
      "source": [],
      "metadata": {
        "id": "IRPW6USukA_j"
      },
      "execution_count": null,
      "outputs": []
    }
  ]
}