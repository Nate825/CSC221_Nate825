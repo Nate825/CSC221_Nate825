{
  "nbformat": 4,
  "nbformat_minor": 0,
  "metadata": {
    "colab": {
      "provenance": [],
      "authorship_tag": "ABX9TyOOHmSmJ20yVuvS4kXkn5V8",
      "include_colab_link": true
    },
    "kernelspec": {
      "name": "python3",
      "display_name": "Python 3"
    },
    "language_info": {
      "name": "python"
    }
  },
  "cells": [
    {
      "cell_type": "markdown",
      "metadata": {
        "id": "view-in-github",
        "colab_type": "text"
      },
      "source": [
        "<a href=\"https://colab.research.google.com/github/Nate825/CSC221_Nate825/blob/main/assignment3.ipynb\" target=\"_parent\"><img src=\"https://colab.research.google.com/assets/colab-badge.svg\" alt=\"Open In Colab\"/></a>"
      ]
    },
    {
      "cell_type": "code",
      "execution_count": null,
      "metadata": {
        "colab": {
          "base_uri": "https://localhost:8080/"
        },
        "id": "P_qUskCIUbBd",
        "outputId": "5a30d1e6-cd9b-4955-d212-39b2879819f9"
      },
      "outputs": [
        {
          "output_type": "stream",
          "name": "stdout",
          "text": [
            "Hello Colab\n"
          ]
        }
      ],
      "source": [
        "#this code allows me to assign a value to a variable and than print what is in the variable\n",
        "message = \"Hello Colab\"\n",
        "print(message)"
      ]
    },
    {
      "cell_type": "code",
      "source": [
        "message = \"Hello Colab\"\n",
        "print(message)\n",
        "\n",
        "message = \"Hello World\"\n",
        "print(message)"
      ],
      "metadata": {
        "colab": {
          "base_uri": "https://localhost:8080/"
        },
        "id": "ZSXJffY0U_Wt",
        "outputId": "5c4e3777-ebee-4370-e921-cf396cfcdca0"
      },
      "execution_count": null,
      "outputs": [
        {
          "output_type": "stream",
          "name": "stdout",
          "text": [
            "Hello Colab\n",
            "Hello World\n"
          ]
        }
      ]
    },
    {
      "cell_type": "code",
      "source": [
        "name = \"Nate Butkus\"\n",
        "message = f\"Hello, {name.title()} would you like to learn some python today\"\n",
        "print(message)"
      ],
      "metadata": {
        "colab": {
          "base_uri": "https://localhost:8080/"
        },
        "id": "SO7JbD9gVW3N",
        "outputId": "a1641b57-08c6-45fc-cb96-25f600452258"
      },
      "execution_count": null,
      "outputs": [
        {
          "output_type": "stream",
          "name": "stdout",
          "text": [
            "Hello, Nate Butkus would you like to learn some python today\n"
          ]
        }
      ]
    },
    {
      "cell_type": "code",
      "source": [
        "#This code allows the user to change a varible in either uppercase lowercase or make it the title\n",
        "name = \"Nate Butkus\"\n",
        "print(name.upper())\n",
        "print(name.lower())\n",
        "print(name.title())\n",
        "\n"
      ],
      "metadata": {
        "colab": {
          "base_uri": "https://localhost:8080/"
        },
        "id": "4oklToric2ci",
        "outputId": "8834c64a-65af-4c1a-d7d2-09d7f71b2fd2"
      },
      "execution_count": null,
      "outputs": [
        {
          "output_type": "stream",
          "name": "stdout",
          "text": [
            "NATE BUTKUS\n",
            "nate butkus\n",
            "Nate Butkus\n"
          ]
        }
      ]
    },
    {
      "cell_type": "code",
      "source": [
        "name = \"Jordan Sanders\"\n",
        "quote = '\"Low hanging fruit is normally rotten\"'\n",
        "print(f\"{name},once said {quote}\")\n"
      ],
      "metadata": {
        "colab": {
          "base_uri": "https://localhost:8080/"
        },
        "id": "kUMB1dLUh5oh",
        "outputId": "0ffcbf55-2523-4ab1-8e69-cf2861f0128c"
      },
      "execution_count": null,
      "outputs": [
        {
          "output_type": "stream",
          "name": "stdout",
          "text": [
            "Jordan Sanders,once said \"Low hanging fruit is normally rotten\"\n"
          ]
        }
      ]
    },
    {
      "cell_type": "code",
      "source": [
        "Famous_person = \"Jordan Sanders\"\n",
        "quote = '\"Low hanging fruit is normally rotten\"'\n",
        "message = (f\"{Famous_person},once said {quote}\")\n",
        "print(message)"
      ],
      "metadata": {
        "colab": {
          "base_uri": "https://localhost:8080/"
        },
        "id": "gJwSvwnGjNmB",
        "outputId": "0f488dea-34d2-4bd8-e4b0-33a21dc599c4"
      },
      "execution_count": null,
      "outputs": [
        {
          "output_type": "stream",
          "name": "stdout",
          "text": [
            "Jordan Sanders,once said \"Low hanging fruit is normally rotten\"\n"
          ]
        }
      ]
    },
    {
      "cell_type": "code",
      "source": [
        "print(\"\\n\\tNate \\n\\tButkus\")\n",
        "name = \" Nate Butkus \"\n",
        "name.rstrip()\n",
        "name.lstrip()\n",
        "name.strip()"
      ],
      "metadata": {
        "id": "IRPW6USukA_j",
        "colab": {
          "base_uri": "https://localhost:8080/",
          "height": 87
        },
        "outputId": "d9c353e5-e091-4d5f-a924-143ed439b5c9"
      },
      "execution_count": 12,
      "outputs": [
        {
          "output_type": "stream",
          "name": "stdout",
          "text": [
            "\n",
            "\tNate \n",
            "\tButkus\n"
          ]
        },
        {
          "output_type": "execute_result",
          "data": {
            "text/plain": [
              "'Nate Butkus'"
            ],
            "application/vnd.google.colaboratory.intrinsic+json": {
              "type": "string"
            }
          },
          "metadata": {},
          "execution_count": 12
        }
      ]
    },
    {
      "cell_type": "code",
      "source": [
        "filename = 'python_notes.txt'\n",
        "filename.removesuffix('txt')\n"
      ],
      "metadata": {
        "colab": {
          "base_uri": "https://localhost:8080/",
          "height": 35
        },
        "id": "vdBu-iZ8J0Ar",
        "outputId": "93cfc15d-3707-40bb-dd71-2f9843fc4a09"
      },
      "execution_count": 13,
      "outputs": [
        {
          "output_type": "execute_result",
          "data": {
            "text/plain": [
              "'python_notes.'"
            ],
            "application/vnd.google.colaboratory.intrinsic+json": {
              "type": "string"
            }
          },
          "metadata": {},
          "execution_count": 13
        }
      ]
    },
    {
      "cell_type": "code",
      "source": [
        "print(7+1)\n",
        "print(4*2)\n",
        "print(32/4)\n",
        "print(9-1)"
      ],
      "metadata": {
        "colab": {
          "base_uri": "https://localhost:8080/"
        },
        "id": "fwhAIwkHiCqB",
        "outputId": "a19c54f2-410d-4dfa-bf5c-5d8119b085e4"
      },
      "execution_count": 14,
      "outputs": [
        {
          "output_type": "stream",
          "name": "stdout",
          "text": [
            "8\n",
            "8\n",
            "8.0\n",
            "8\n"
          ]
        }
      ]
    },
    {
      "cell_type": "code",
      "source": [
        "x = 8\n",
        "print(\"Nates favorite number is\")\n",
        "print(x)"
      ],
      "metadata": {
        "colab": {
          "base_uri": "https://localhost:8080/"
        },
        "id": "2d04VdJkli8h",
        "outputId": "d749f508-0372-462f-ac55-606d1debaa6d"
      },
      "execution_count": 20,
      "outputs": [
        {
          "output_type": "stream",
          "name": "stdout",
          "text": [
            "Nates favorite number is\n",
            "8\n"
          ]
        }
      ]
    },
    {
      "cell_type": "code",
      "source": [
        "import this"
      ],
      "metadata": {
        "colab": {
          "base_uri": "https://localhost:8080/"
        },
        "id": "7Aik4p4YmWwC",
        "outputId": "9c0da350-19c8-4e3a-e559-4fca862e5f79"
      },
      "execution_count": 21,
      "outputs": [
        {
          "output_type": "stream",
          "name": "stdout",
          "text": [
            "The Zen of Python, by Tim Peters\n",
            "\n",
            "Beautiful is better than ugly.\n",
            "Explicit is better than implicit.\n",
            "Simple is better than complex.\n",
            "Complex is better than complicated.\n",
            "Flat is better than nested.\n",
            "Sparse is better than dense.\n",
            "Readability counts.\n",
            "Special cases aren't special enough to break the rules.\n",
            "Although practicality beats purity.\n",
            "Errors should never pass silently.\n",
            "Unless explicitly silenced.\n",
            "In the face of ambiguity, refuse the temptation to guess.\n",
            "There should be one-- and preferably only one --obvious way to do it.\n",
            "Although that way may not be obvious at first unless you're Dutch.\n",
            "Now is better than never.\n",
            "Although never is often better than *right* now.\n",
            "If the implementation is hard to explain, it's a bad idea.\n",
            "If the implementation is easy to explain, it may be a good idea.\n",
            "Namespaces are one honking great idea -- let's do more of those!\n"
          ]
        }
      ]
    }
  ]
}