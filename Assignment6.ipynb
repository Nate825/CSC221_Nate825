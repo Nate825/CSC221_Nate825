{
  "nbformat": 4,
  "nbformat_minor": 0,
  "metadata": {
    "colab": {
      "provenance": [],
      "authorship_tag": "ABX9TyPIQQ/Oe3lVWgORuLSZ4PRM",
      "include_colab_link": true
    },
    "kernelspec": {
      "name": "python3",
      "display_name": "Python 3"
    },
    "language_info": {
      "name": "python"
    }
  },
  "cells": [
    {
      "cell_type": "markdown",
      "metadata": {
        "id": "view-in-github",
        "colab_type": "text"
      },
      "source": [
        "<a href=\"https://colab.research.google.com/github/Nate825/CSC221_Nate825/blob/main/Assignment6.ipynb\" target=\"_parent\"><img src=\"https://colab.research.google.com/assets/colab-badge.svg\" alt=\"Open In Colab\"/></a>"
      ]
    },
    {
      "cell_type": "code",
      "execution_count": 4,
      "metadata": {
        "colab": {
          "base_uri": "https://localhost:8080/"
        },
        "id": "wmOS5tBIeDwq",
        "outputId": "a6b31e14-9b34-40bb-87b6-59753c6f3086"
      },
      "outputs": [
        {
          "output_type": "stream",
          "name": "stdout",
          "text": [
            "Is dishes == 'plates'? I predict true\n",
            "True\n",
            "\n",
            " Is car == 'forks'? I predict Flase\n",
            "False\n",
            "Is car == 'Audi'? I predict true\n",
            "True\n",
            "\n",
            " Is car == 'Honda'? I predict False\n",
            "False\n",
            "Is colors == 'red'? I predict True\n",
            "True\n",
            "\n",
            " Is colors == 'green'? I predict False\n",
            "False\n",
            "Is Brands == 'Apple'? I predict True\n",
            "True\n",
            "\n",
            " Is Brands == 'Microsoft'? I predict False\n",
            "False\n",
            "is numbers == '12'= I predict true\n",
            "True\n",
            "\n",
            " Is numbers == '13'? I predict False\n",
            "False\n"
          ]
        }
      ],
      "source": [
        "dishes = 'plates'\n",
        "print(\"Is dishes == 'plates'? I predict true\")\n",
        "print(dishes == 'plates')\n",
        "\n",
        "print(\"\\n Is car == 'forks'? I predict Flase\")\n",
        "print(dishes == 'forks')\n",
        "\n",
        "car = 'Audi'\n",
        "print(\"Is car == 'Audi'? I predict true\")\n",
        "print(car == 'Audi')\n",
        "\n",
        "print(\"\\n Is car == 'Honda'? I predict False\")\n",
        "print(car == 'Honda')\n",
        "\n",
        "colors = 'red'\n",
        "print(\"Is colors == 'red'? I predict True\")\n",
        "print(colors == 'red')\n",
        "\n",
        "print(\"\\n Is colors == 'green'? I predict False\")\n",
        "print(colors == 'green')\n",
        "\n",
        "Brands = 'Apple'\n",
        "print(\"Is Brands == 'Apple'? I predict True\")\n",
        "print(Brands == 'Apple')\n",
        "\n",
        "print(\"\\n Is Brands == 'Microsoft'? I predict False\")\n",
        "print(Brands == 'Microsoft')\n",
        "\n",
        "numbers = '12'\n",
        "print(\"is numbers == '12'= I predict true\")\n",
        "print(numbers == '12')\n",
        "\n",
        "print(\"\\n Is numbers == '13'? I predict False\")\n",
        "print(numbers == '13')"
      ]
    },
    {
      "cell_type": "code",
      "source": [
        "clothes = 'Sweatshirt'\n",
        "clothes.lower() == 'sweatshirt'\n",
        "print(clothes)\n",
        "\n",
        "real_age = '20'\n",
        "fake_age = '21'\n",
        "real_age >= '19' or fake_age <= '23'\n",
        "print(real_age)\n",
        "print(fake_age)\n",
        "\n",
        "fake_age = '22'\n",
        "real_age < '22' and fake_age > '22'\n",
        "print(real_age)\n",
        "print(fake_age)\n",
        "\n",
        "friends = ['Kyle', 'Jonathan', 'Nick']\n",
        "print('Kyle' in friends)\n",
        "print('Chase' in friends)\n",
        "\n",
        "\n",
        "Banned_users = ['Kyle', 'Jonathan', 'Nick']\n",
        "user = 'Nate'\n",
        "if user not in Banned_users:\n",
        "  print(f\"{user.title()}, You are allowed to write a comment.\")"
      ],
      "metadata": {
        "colab": {
          "base_uri": "https://localhost:8080/"
        },
        "id": "lvGcsx-d1OUY",
        "outputId": "c124b1af-e84e-4895-d45e-597113ca3915"
      },
      "execution_count": 3,
      "outputs": [
        {
          "output_type": "stream",
          "name": "stdout",
          "text": [
            "Sweatshirt\n",
            "20\n",
            "21\n",
            "20\n",
            "22\n",
            "True\n",
            "False\n",
            "Nate, You are allowed to write a comment.\n"
          ]
        }
      ]
    },
    {
      "cell_type": "code",
      "source": [
        "alien_color = 'red'\n",
        "if 'green' in alien_color:\n",
        "  print('You gained 5 points')\n",
        "else:\n",
        "  print('No output')"
      ],
      "metadata": {
        "colab": {
          "base_uri": "https://localhost:8080/"
        },
        "id": "JgS72JqH8tt5",
        "outputId": "178e3d01-b28f-4223-f1af-a89d4d503e5d"
      },
      "execution_count": 17,
      "outputs": [
        {
          "output_type": "stream",
          "name": "stdout",
          "text": [
            "No output\n"
          ]
        }
      ]
    },
    {
      "cell_type": "code",
      "source": [
        "age = 18\n",
        "if age < 2:\n",
        "  print('You are a baby')\n",
        "elif age < 4:\n",
        "  print('You are a toddler')\n",
        "elif age < 13:\n",
        "  print('You are a kid')\n",
        "elif age < 20:\n",
        "  print('You are a teenager')\n",
        "elif age < 65:\n",
        "  print('You are an adult')\n",
        "elif age > 65:\n",
        "  print('You are Elder')"
      ],
      "metadata": {
        "colab": {
          "base_uri": "https://localhost:8080/"
        },
        "id": "YPpL9WTk9YuA",
        "outputId": "9076377e-b561-44b5-da66-12a33cad548e"
      },
      "execution_count": 21,
      "outputs": [
        {
          "output_type": "stream",
          "name": "stdout",
          "text": [
            "You are a teenager\n"
          ]
        }
      ]
    },
    {
      "cell_type": "code",
      "source": [
        "#what is your astrological sign\n",
        "month = int(input(f\"What month were you born (by number): \"))\n",
        "if month == 1:\n",
        "  print('You are an Aquarius!')\n",
        "elif month == 2:\n",
        "  print('You are an Picses!')\n",
        "elif month == 3:\n",
        "  print('You are an Aries!')\n",
        "elif month == 4:\n",
        "  print('You are an Taurus!')\n",
        "elif month == 5:\n",
        "  print('You are an Gemini!')\n",
        "elif month == 6:\n",
        "  print('You are an Cancer!')\n",
        "elif month == 7:\n",
        "  print('You are an Leo!')\n",
        "elif month == 8:\n",
        "  print('You are an Virgo!')\n",
        "elif month == 9:\n",
        "  print('You are an Libra!')\n",
        "elif month == 10:\n",
        "  print('You are an Scorpio!')\n",
        "elif month == 11:\n",
        "  print('You are an Sagittarius!')\n",
        "elif month == 12:\n",
        "  print('You are an Capricorn!')\n",
        "else:\n",
        "  print('Please enter a valid month')"
      ],
      "metadata": {
        "colab": {
          "base_uri": "https://localhost:8080/"
        },
        "id": "yWlvAZ4eBFYD",
        "outputId": "0a3ef445-8959-4b4d-abd5-fa0a65424b98"
      },
      "execution_count": 2,
      "outputs": [
        {
          "output_type": "stream",
          "name": "stdout",
          "text": [
            "What month were you born (by number): 12\n",
            "You are an Capricorn!\n"
          ]
        }
      ]
    }
  ]
}