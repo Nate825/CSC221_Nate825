{
  "nbformat": 4,
  "nbformat_minor": 0,
  "metadata": {
    "colab": {
      "provenance": [],
      "authorship_tag": "ABX9TyPLddUuUsk8/297zXdfmzhu",
      "include_colab_link": true
    },
    "kernelspec": {
      "name": "python3",
      "display_name": "Python 3"
    },
    "language_info": {
      "name": "python"
    }
  },
  "cells": [
    {
      "cell_type": "markdown",
      "metadata": {
        "id": "view-in-github",
        "colab_type": "text"
      },
      "source": [
        "<a href=\"https://colab.research.google.com/github/Nate825/CSC221_Nate825/blob/main/Assignment_16.ipynb\" target=\"_parent\"><img src=\"https://colab.research.google.com/assets/colab-badge.svg\" alt=\"Open In Colab\"/></a>"
      ]
    },
    {
      "cell_type": "code",
      "execution_count": 2,
      "metadata": {
        "colab": {
          "base_uri": "https://localhost:8080/"
        },
        "id": "bdkzeGvZSYS2",
        "outputId": "0ddb11c4-5310-4b37-d0da-4daeba1603f1"
      },
      "outputs": [
        {
          "output_type": "stream",
          "name": "stdout",
          "text": [
            "Hello World\n"
          ]
        }
      ],
      "source": [
        "#1.1\n",
        "print('Hello World') #printing a basic message"
      ]
    },
    {
      "cell_type": "code",
      "source": [
        "50000 + 200003 # basic math to show the use of calculation"
      ],
      "metadata": {
        "colab": {
          "base_uri": "https://localhost:8080/"
        },
        "id": "zwholpDkS9Y_",
        "outputId": "402a4834-3a91-4495-bf1b-cfbe4e973fce"
      },
      "execution_count": 3,
      "outputs": [
        {
          "output_type": "execute_result",
          "data": {
            "text/plain": [
              "250003"
            ]
          },
          "metadata": {},
          "execution_count": 3
        }
      ]
    },
    {
      "cell_type": "code",
      "source": [
        "#1.2\n",
        "#!/usr/bin/env python3         the comment is ignored\n",
        "print('hello world')"
      ],
      "metadata": {
        "colab": {
          "base_uri": "https://localhost:8080/"
        },
        "id": "CkjADiyVTFQJ",
        "outputId": "e1b363d8-c1cb-45b6-96b3-5147d38c33d4"
      },
      "execution_count": 5,
      "outputs": [
        {
          "output_type": "stream",
          "name": "stdout",
          "text": [
            "hello world\n"
          ]
        }
      ]
    },
    {
      "cell_type": "code",
      "source": [
        "#1.3\n",
        "# this is a simple example that shows how a while loop can be used to calculate simple intrest\n",
        "\n",
        "\n",
        "principal = 1000\n",
        "rate = 0.05\n",
        "num_years = 5\n",
        "\n",
        "for year in range(1, num_years + 1):\n",
        "    principal *= (1 + rate)\n",
        "    print(f'{year} {principal:.2f}')"
      ],
      "metadata": {
        "id": "cRkCyk42USRs"
      },
      "execution_count": null,
      "outputs": []
    },
    {
      "cell_type": "code",
      "source": [
        "#1.4\n",
        "x = 7\n",
        "y = 4\n",
        "\n",
        "#using arithmetic operators\n",
        "addition_result = x + y\n",
        "subtraction_result = x - y\n",
        "multiplication_result = x * y\n",
        "division_result = x / y\n",
        "truncating_division_result = x // y\n",
        "modulo_result = x % y\n",
        "power_result = x ** y\n",
        "\n",
        "# Using Built-in Functions\n",
        "absolute_value = abs(-10)\n",
        "divmod_result = divmod(13, 5)\n",
        "power_with_modulo_result = pow(3, 4, 2)\n",
        "rounded_value = round(15.678, 2)"
      ],
      "metadata": {
        "id": "-fAj6CvzVWt4"
      },
      "execution_count": null,
      "outputs": []
    },
    {
      "cell_type": "code",
      "source": [
        "#using bit manipulation\n",
        "a = 0b11001001\n",
        "mask = 0b11110000\n",
        "shifted_result = (a & mask) >> 4\n",
        "\n",
        "#using comparison operators\n",
        "value1 = 10\n",
        "value2 = 20\n",
        "\n",
        "equal_result = value1 == value2\n",
        "not_equal_result = value1 != value2\n",
        "etc..."
      ],
      "metadata": {
        "id": "GsPRRx79W3jP"
      },
      "execution_count": null,
      "outputs": []
    },
    {
      "cell_type": "code",
      "source": [
        "#1.5\n",
        "numbers = [1, 2, 3, 4, 5, 6, 7, 8, 9, 10]\n",
        "\n",
        "for num in numbers:\n",
        "  if num % 2 == 0:\n",
        "    print(f\"{num} is even\")\n",
        "  else:\n",
        "    print(f'{num} is odd')"
      ],
      "metadata": {
        "id": "UpNevcNkXast"
      },
      "execution_count": null,
      "outputs": []
    },
    {
      "cell_type": "code",
      "source": [
        "#basic use of continue and break\n",
        "x = 0\n",
        "while x < 10:\n",
        "  x += 1\n",
        "  if x == 5:\n",
        "    print('skip')\n",
        "    continue\n",
        "  if x == 8:\n",
        "    print('break')\n",
        "    break\n",
        "print(x)"
      ],
      "metadata": {
        "id": "_mTXvFkJYS1I"
      },
      "execution_count": null,
      "outputs": []
    },
    {
      "cell_type": "code",
      "source": [
        "#1.6\n",
        "message = 'Hello'\n",
        "website_link = 'http://www.python3.org'\n",
        "\n",
        "full_message = message + f'Search {website_link}'\n",
        "\n",
        "message2 = message.upper()\n",
        "substring = message[7:13]\n"
      ],
      "metadata": {
        "id": "HiEgxtrKYzWu"
      },
      "execution_count": null,
      "outputs": []
    },
    {
      "cell_type": "code",
      "source": [
        "#1.7\n",
        "#demonstrating file input and output\n",
        "with open('Nate.txt', 'w') as file:\n",
        "    file.write('Nate\\n')\n",
        "    file.write('j\\n')\n",
        "    file.write('Butkus\\n')\n",
        "with open('Nate.txt') as file:\n",
        "    for name in file:\n",
        "      print(name.strip())"
      ],
      "metadata": {
        "colab": {
          "base_uri": "https://localhost:8080/"
        },
        "id": "Z1UDri5WaADw",
        "outputId": "d4e7a993-a83f-4ae2-c9ed-138943ec1ae7"
      },
      "execution_count": 4,
      "outputs": [
        {
          "output_type": "stream",
          "name": "stdout",
          "text": [
            "Nate\n",
            "j\n",
            "Butkus\n"
          ]
        }
      ]
    },
    {
      "cell_type": "code",
      "source": [
        "#1.8\n",
        "#example use of lists\n",
        "num = [1, 2, 3, 4, 5, 6]\n",
        "print(num)\n",
        "num.append(7)\n",
        "for nums in num:\n",
        "  print(num)\n",
        "extracted_num = num[2:5]\n",
        "print(extracted_num)\n",
        "test = num[2]\n",
        "num[2] = 6\n",
        "test1 = num[-1]\n",
        "total_sum = sum(num)\n",
        "print(num)\n",
        "print(total_sum)"
      ],
      "metadata": {
        "colab": {
          "base_uri": "https://localhost:8080/"
        },
        "id": "9mPsw4O5-OLe",
        "outputId": "6da33828-0b49-4028-d911-47e4b51a4794"
      },
      "execution_count": 7,
      "outputs": [
        {
          "output_type": "stream",
          "name": "stdout",
          "text": [
            "[1, 2, 3, 4, 5, 6]\n",
            "[1, 2, 3, 4, 5, 6, 7]\n",
            "[1, 2, 3, 4, 5, 6, 7]\n",
            "[1, 2, 3, 4, 5, 6, 7]\n",
            "[1, 2, 3, 4, 5, 6, 7]\n",
            "[1, 2, 3, 4, 5, 6, 7]\n",
            "[1, 2, 3, 4, 5, 6, 7]\n",
            "[1, 2, 3, 4, 5, 6, 7]\n",
            "[3, 4, 5]\n",
            "[1, 2, 6, 4, 5, 6, 7]\n",
            "31\n"
          ]
        }
      ]
    },
    {
      "cell_type": "code",
      "source": [
        "#1.9\n",
        "point1 = (7,3)\n",
        "point2 = (1,2)\n",
        "\n",
        "x_1, y_1 = point1\n",
        "x_2, y_2 = point2\n",
        "\n",
        "print('Coordinates')\n",
        "print('point1=', point1)\n",
        "print('point2=', point2)\n",
        "distance = ((x_2 - x_1)**2 + (y_2 - y_1)**2)**.5\n",
        "print('The distance between the two points', distance)"
      ],
      "metadata": {
        "colab": {
          "base_uri": "https://localhost:8080/"
        },
        "id": "ZZt9ZYU2A7R1",
        "outputId": "27e4d630-d282-4eea-e554-2e2ebc6beeee"
      },
      "execution_count": 12,
      "outputs": [
        {
          "output_type": "stream",
          "name": "stdout",
          "text": [
            "Coordinates\n",
            "point1= (7, 3)\n",
            "point2= (1, 2)\n",
            "The distance between the two points 6.082762530298219\n"
          ]
        }
      ]
    },
    {
      "cell_type": "code",
      "source": [
        "#1.10\n",
        "class1 = {'Nate', 'Brain', 'John', 'Frankie'}\n",
        "class2 = {'Nate', 'Spencer', 'Mike', 'Joey'}\n",
        "print('Initial Attendance')\n",
        "print('Class 1', class1)\n",
        "print('Class 2', class2)\n",
        "common_attendees = class1.intersection(class2)\n",
        "print(common_attendees)\n",
        "all_attendees = class1.union(class2)\n",
        "print(all_attendees)\n",
        "class1.add('Brain')\n",
        "print(class1)\n",
        "class2.discard('Mike')\n",
        "print(class2)"
      ],
      "metadata": {
        "colab": {
          "base_uri": "https://localhost:8080/"
        },
        "id": "QRFNNgWQcwUO",
        "outputId": "816265b8-3d1f-4357-acc2-c2b9f76a51ed"
      },
      "execution_count": 14,
      "outputs": [
        {
          "output_type": "stream",
          "name": "stdout",
          "text": [
            "Initial Attendance\n",
            "Class 1 {'Brain', 'Nate', 'Frankie', 'John'}\n",
            "Class 2 {'Mike', 'Nate', 'Joey', 'Spencer'}\n",
            "{'Nate'}\n",
            "{'Mike', 'John', 'Brain', 'Nate', 'Joey', 'Spencer', 'Frankie'}\n",
            "{'Brain', 'Nate', 'Frankie', 'John'}\n",
            "{'Nate', 'Joey', 'Spencer'}\n"
          ]
        }
      ]
    },
    {
      "cell_type": "code",
      "source": [
        "#1.11\n",
        "contacts_data = [\n",
        "    ('Nate', 'Nateb@gmail.com', '123-456-7890'),\n",
        "    ('John', 'Johna@gmail.com', '9876543210'),\n",
        "    ('Max', 'MaxM@gmail.com', '6437243689'),\n",
        "]\n",
        "contacts = {name: {'email': email, 'phone': phone}for name, email, phone in contacts_data}\n",
        "print('Contact info')\n",
        "for name, info in contacts.items():\n",
        "  print(f\"{name}: Email - {info['email']}), Phone - {info['phone']}\")\n",
        "new_contact = ('Joe', 'Joem@gmail.com', '7648356487')\n",
        "contacts['Joe'] = {'email' : new_contact[1], 'phone': new_contact[2]}\n",
        "for name, info in contacts.items():\n",
        "  print(f\"{name}: email: {info['email']}, phone: {info['phone']}\")"
      ],
      "metadata": {
        "colab": {
          "base_uri": "https://localhost:8080/"
        },
        "id": "FahV4roDilZi",
        "outputId": "e1fdfa28-da2d-425e-8a89-891d607afe84"
      },
      "execution_count": 17,
      "outputs": [
        {
          "output_type": "stream",
          "name": "stdout",
          "text": [
            "Contact info\n",
            "Nate: Email - Nateb@gmail.com), Phone - 123-456-7890\n",
            "John: Email - Johna@gmail.com), Phone - 9876543210\n",
            "Max: Email - MaxM@gmail.com), Phone - 6437243689\n",
            "Nate: email: Nateb@gmail.com, phone: 123-456-7890\n",
            "John: email: Johna@gmail.com, phone: 9876543210\n",
            "Max: email: MaxM@gmail.com, phone: 6437243689\n",
            "Joe: email: Joem@gmail.com, phone: 7648356487\n"
          ]
        }
      ]
    },
    {
      "cell_type": "code",
      "source": [
        "#1.12\n",
        "def check_even_odd(number):\n",
        "  if number % 2 == 0:\n",
        "    result = 'Even'\n",
        "  else:\n",
        "    result = 'Odd'\n",
        "  return result\n",
        "\n",
        "num1 = 2\n",
        "num2 = 3\n",
        "\n",
        "result1 = check_even_odd(num1)\n",
        "result2 = check_even_odd(num2)\n",
        "print(f'{num1} is {result1}')\n",
        "print(f'{num2} is {result2}')"
      ],
      "metadata": {
        "colab": {
          "base_uri": "https://localhost:8080/"
        },
        "id": "-ON9N4EumP3J",
        "outputId": "67605504-14af-4885-a0fd-4968f8bc3eeb"
      },
      "execution_count": 19,
      "outputs": [
        {
          "output_type": "stream",
          "name": "stdout",
          "text": [
            "2 is Even\n",
            "3 is Odd\n"
          ]
        }
      ]
    },
    {
      "cell_type": "code",
      "source": [
        "#1.13\n",
        "def check_even_odd(number: int) -> tuple:\n",
        "  if number % 2 == 0:\n",
        "    result = 'even'\n",
        "    message = f'the number {number} is even'\n",
        "  else:\n",
        "    result = 'odd'\n",
        "    message = f'the number {number} is odd'\n",
        "  return result, message\n",
        "int_number = 2\n",
        "parity_result, parity_message = check_even_odd(int_number)\n",
        "print(f' Result: {parity_result}, Message: {parity_message}')"
      ],
      "metadata": {
        "colab": {
          "base_uri": "https://localhost:8080/"
        },
        "id": "nULEndxfn-4T",
        "outputId": "81842e8d-74b7-4067-8d3c-2c0af7cfa0ee"
      },
      "execution_count": 20,
      "outputs": [
        {
          "output_type": "stream",
          "name": "stdout",
          "text": [
            " Result: even, Message: the number 2 is even\n"
          ]
        }
      ]
    },
    {
      "cell_type": "code",
      "source": [
        "#1.14\n",
        "def get_real_number():\n",
        "  while True:\n",
        "    user_input = input('Enter a number')\n",
        "    try:\n",
        "      number = float(user_input)\n",
        "      print(f'{number} is a real number')\n",
        "      return number\n",
        "    except ValueError:\n",
        "      print(f'{number} is not a real number')\n",
        "result = get_real_number()\n",
        "print(f'{result}')"
      ],
      "metadata": {
        "colab": {
          "base_uri": "https://localhost:8080/"
        },
        "id": "drtq4b9NqD_j",
        "outputId": "6c4323ba-28e8-4a27-8753-7b5c6d2c9c22"
      },
      "execution_count": 25,
      "outputs": [
        {
          "output_type": "stream",
          "name": "stdout",
          "text": [
            "Enter a number2\n",
            "2.0 is a real number\n",
            "2.0\n"
          ]
        }
      ]
    },
    {
      "cell_type": "code",
      "source": [
        "#1.15\n",
        "import atexit\n",
        "import time\n",
        "\n",
        "start_time = time.time()\n",
        "def runtime():\n",
        "  end_time = time.time()\n",
        "  runtime = end_time - start_time\n",
        "  print(f'You ran the program for {runtime:.2f} seconds')\n",
        "atexit.register(runtime)"
      ],
      "metadata": {
        "id": "GfHWGte4ra0i"
      },
      "execution_count": 28,
      "outputs": []
    },
    {
      "cell_type": "code",
      "source": [
        "#1.16\n",
        "class Stack:\n",
        "  def __init__(self):\n",
        "    self.items = []\n",
        "\n",
        "  def push(self, item):\n",
        "    self.items.append(item)\n",
        "\n",
        "  def pop(self):\n",
        "    if self.items:\n",
        "      return self.items.pop()\n",
        "    else:\n",
        "      return None\n",
        "  def __repr__(self):\n",
        "    return f'<{type(self).__name__} at 0x{id(self):x}, size={len(self)}>'\n",
        "  def __len__(self):\n",
        "    return len(self.items)\n",
        "class MyStack(Stack):\n",
        "  def swap(self):\n",
        "    if len(self) >= 2:\n",
        "      a = self.pop()\n",
        "      b = self.pop()\n",
        "      self.push(a)\n",
        "      self.push(b)\n",
        "      print('Swapped the top 2 items')\n",
        "    else:\n",
        "      print('Not enough items to swap')\n",
        "\n",
        "class NumericStackck(Stack):\n",
        "  def push(self, item):\n",
        "    if isinstance(item, (int, float)):\n",
        "      super().push(item)\n",
        "    else:\n",
        "      print('can only push number values')\n",
        "ms = MyStack()\n",
        "ms.push('Nate')\n",
        "ms.push(20)\n",
        "print(ms.pop())\n",
        "\n",
        "s = Stack()\n",
        "s.push('John')\n",
        "s.push(10)\n",
        "s.push(20)\n",
        "\n",
        "ms_swap = MyStack()\n",
        "ms_swap.items = s.items\n",
        "ms_swap.swap()\n",
        "print(ms_swap.pop())\n",
        "\n",
        "\n"
      ],
      "metadata": {
        "colab": {
          "base_uri": "https://localhost:8080/"
        },
        "id": "gMLotgmlsrRS",
        "outputId": "77c4113c-cf63-4a34-9347-76a4bc089701"
      },
      "execution_count": 47,
      "outputs": [
        {
          "output_type": "stream",
          "name": "stdout",
          "text": [
            "20\n",
            "Swapped the top 2 items\n",
            "10\n"
          ]
        }
      ]
    }
  ]
}