{
  "nbformat": 4,
  "nbformat_minor": 0,
  "metadata": {
    "colab": {
      "provenance": [],
      "authorship_tag": "ABX9TyOTkOFhOGST6H1nb9PwchXf",
      "include_colab_link": true
    },
    "kernelspec": {
      "name": "python3",
      "display_name": "Python 3"
    },
    "language_info": {
      "name": "python"
    }
  },
  "cells": [
    {
      "cell_type": "markdown",
      "metadata": {
        "id": "view-in-github",
        "colab_type": "text"
      },
      "source": [
        "<a href=\"https://colab.research.google.com/github/Nate825/CSC221_Nate825/blob/main/Assignment22.ipynb\" target=\"_parent\"><img src=\"https://colab.research.google.com/assets/colab-badge.svg\" alt=\"Open In Colab\"/></a>"
      ]
    },
    {
      "cell_type": "code",
      "execution_count": 2,
      "metadata": {
        "colab": {
          "base_uri": "https://localhost:8080/"
        },
        "id": "XHnJymRF263t",
        "outputId": "736b99f0-e4c9-4f47-afff-c59ecdbc5375"
      },
      "outputs": [
        {
          "output_type": "stream",
          "name": "stdout",
          "text": [
            "Original Vectors:\n",
            "(3, 4)\n",
            "(-1, 2)\n",
            "(0, 0)\n",
            "(5, -7)\n",
            "\n",
            "Sorted Vectors by Length:\n",
            "(0, 0)\n",
            "(-1, 2)\n",
            "(3, 4)\n",
            "(5, -7)\n"
          ]
        }
      ],
      "source": [
        "import math\n",
        "\n",
        "class Vector2D:\n",
        "    def __init__(self, x, y):\n",
        "        self.x = x\n",
        "        self.y = y\n",
        "\n",
        "    def __repr__(self):\n",
        "        return f\"Vector2D({self.x}, {self.y})\"\n",
        "\n",
        "    def __str__(self):\n",
        "        return f\"({self.x}, {self.y})\"\n",
        "\n",
        "    def __lt__(self, other):\n",
        "        return self.length() < other.length()\n",
        "\n",
        "    def length(self):\n",
        "        return math.sqrt(self.x**2 + self.y**2)\n",
        "\n",
        "# Example usage\n",
        "vectors = [\n",
        "    Vector2D(3, 4),\n",
        "    Vector2D(-1, 2),\n",
        "    Vector2D(0, 0),\n",
        "    Vector2D(5, -7)\n",
        "]\n",
        "\n",
        "# Print original vectors\n",
        "print(\"Original Vectors:\")\n",
        "for vector in vectors:\n",
        "    print(vector)\n",
        "\n",
        "# Sort vectors by length\n",
        "sorted_vectors = sorted(vectors)\n",
        "\n",
        "# Print sorted vectors\n",
        "print(\"\\nSorted Vectors by Length:\")\n",
        "for vector in sorted_vectors:\n",
        "    print(vector)\n"
      ]
    },
    {
      "cell_type": "code",
      "source": [
        "class Vector2D:\n",
        "    def __init__(self, x, y):\n",
        "        self.x = x\n",
        "        self.y = y\n",
        "\n",
        "    def __repr__(self):\n",
        "        return f\"Vector2D({self.x}, {self.y})\"\n",
        "\n",
        "    def __str__(self):\n",
        "        return f\"({self.x}, {self.y})\"\n",
        "\n",
        "    def __lt__(self, other):\n",
        "        return self.length() < other.length()\n",
        "\n",
        "    def length(self):\n",
        "        # Modified to return the sum of x and y instead of Euclidean distance\n",
        "        return self.x + self.y\n",
        "\n",
        "# Example usage\n",
        "vectors = [\n",
        "    Vector2D(3, 4),\n",
        "    Vector2D(-1, 2),\n",
        "    Vector2D(0, 0),\n",
        "    Vector2D(5, -7)\n",
        "]\n",
        "\n",
        "# Print original vectors\n",
        "print(\"Original Vectors:\")\n",
        "for vector in vectors:\n",
        "    print(vector)\n",
        "\n",
        "# Sort vectors by the sum of x and y\n",
        "sorted_vectors = sorted(vectors)\n",
        "\n",
        "# Print sorted vectors\n",
        "print(\"\\nSorted Vectors by the Sum of x and y:\")\n",
        "for vector in sorted_vectors:\n",
        "    print(vector)\n",
        "\n"
      ],
      "metadata": {
        "colab": {
          "base_uri": "https://localhost:8080/"
        },
        "id": "QUdQv-wi3pZI",
        "outputId": "45ace263-7d00-45b3-d4fa-45bf38b1a484"
      },
      "execution_count": 3,
      "outputs": [
        {
          "output_type": "stream",
          "name": "stdout",
          "text": [
            "Original Vectors:\n",
            "(3, 4)\n",
            "(-1, 2)\n",
            "(0, 0)\n",
            "(5, -7)\n",
            "\n",
            "Sorted Vectors by the Sum of x and y:\n",
            "(5, -7)\n",
            "(0, 0)\n",
            "(-1, 2)\n",
            "(3, 4)\n"
          ]
        }
      ]
    },
    {
      "cell_type": "code",
      "source": [
        "class KeyLengthContainer:\n",
        "    def __init__(self):\n",
        "        self.data = {}\n",
        "\n",
        "    def __setitem__(self, key, value):\n",
        "        # Store the key-value pair\n",
        "        self.data[key] = len(str(key))\n",
        "\n",
        "    def __contains__(self, key):\n",
        "        # Implement the container protocol to check if the key is in the container\n",
        "        return key in self.data\n",
        "\n",
        "# Example usage\n",
        "container = KeyLengthContainer()\n",
        "\n",
        "# Add key-value pairs\n",
        "container['apple'] = 5\n",
        "container[123] = 6\n",
        "container[('a', 'b')] = 7\n",
        "\n",
        "# Check if keys are in the container and print their lengths\n",
        "keys_to_check = ['apple', 123, ('a', 'b'), 'grape']\n",
        "for key in keys_to_check:\n",
        "    if key in container:\n",
        "        print(f\"The length of '{key}' is: {container.data[key]}\")\n",
        "    else:\n",
        "        print(f\"'{key}' is not in the container\")\n"
      ],
      "metadata": {
        "colab": {
          "base_uri": "https://localhost:8080/"
        },
        "id": "9DhbUdnH8c6Y",
        "outputId": "0c2871cf-f3af-4b05-9650-30d00340aca3"
      },
      "execution_count": 6,
      "outputs": [
        {
          "output_type": "stream",
          "name": "stdout",
          "text": [
            "The length of 'apple' is: 5\n",
            "The length of '123' is: 3\n",
            "The length of '('a', 'b')' is: 10\n",
            "'grape' is not in the container\n"
          ]
        }
      ]
    },
    {
      "cell_type": "code",
      "source": [
        "class KeyLengthContainer:\n",
        "    def __getitem__(self, key):\n",
        "        # Implement the container protocol to return the length of the key\n",
        "        if isinstance(key, str):\n",
        "            return len(key)\n",
        "        else:\n",
        "            raise TypeError(\"Key must be a string\")\n",
        "\n",
        "# Example usage\n",
        "container = KeyLengthContainer()\n",
        "\n",
        "# Check if keys are in the container and print their lengths\n",
        "keys_to_check = ['apple', 'banana', 'grape']\n",
        "for key in keys_to_check:\n",
        "    try:\n",
        "        length = container[key]\n",
        "        print(f\"The length of '{key}' is: {length}\")\n",
        "    except KeyError:\n",
        "        print(f\"'{key}' is not in the container\")\n",
        "    except TypeError as e:\n",
        "        print(f\"Error: {e}\")"
      ],
      "metadata": {
        "colab": {
          "base_uri": "https://localhost:8080/"
        },
        "id": "Y9e65JEVAbEG",
        "outputId": "afe96269-ee2d-4f0b-dd8d-75fb70aa6f09"
      },
      "execution_count": 9,
      "outputs": [
        {
          "output_type": "stream",
          "name": "stdout",
          "text": [
            "The length of 'apple' is: 5\n",
            "The length of 'banana' is: 6\n",
            "The length of 'grape' is: 5\n"
          ]
        }
      ]
    }
  ]
}