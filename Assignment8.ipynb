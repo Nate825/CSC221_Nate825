{
  "nbformat": 4,
  "nbformat_minor": 0,
  "metadata": {
    "colab": {
      "provenance": [],
      "authorship_tag": "ABX9TyPcDQHcb38QtCTofRCM+CBi",
      "include_colab_link": true
    },
    "kernelspec": {
      "name": "python3",
      "display_name": "Python 3"
    },
    "language_info": {
      "name": "python"
    }
  },
  "cells": [
    {
      "cell_type": "markdown",
      "metadata": {
        "id": "view-in-github",
        "colab_type": "text"
      },
      "source": [
        "<a href=\"https://colab.research.google.com/github/Nate825/CSC221_Nate825/blob/main/Assignment8.ipynb\" target=\"_parent\"><img src=\"https://colab.research.google.com/assets/colab-badge.svg\" alt=\"Open In Colab\"/></a>"
      ]
    },
    {
      "cell_type": "code",
      "execution_count": 1,
      "metadata": {
        "colab": {
          "base_uri": "https://localhost:8080/"
        },
        "id": "Dm7gQnVE7SM0",
        "outputId": "a74c3d4c-b642-4959-bbbd-81aa3e8532a0"
      },
      "outputs": [
        {
          "output_type": "stream",
          "name": "stdout",
          "text": [
            "What kind of car would you like ?Honda\n",
            "\n",
            "Let me see if I can find a Honda for you!\n"
          ]
        }
      ],
      "source": [
        "car = input('What kind of car would you like ?')\n",
        "print(f\"\\nLet me see if I can find a {car.title()} for you!\")"
      ]
    },
    {
      "cell_type": "code",
      "source": [
        "num = input('I can guess wether the number you enter is a mutiple of 10 or not')\n",
        "num = int(num)\n",
        "\n",
        "if num % 10 == 0:\n",
        "  print('The number is a mutiple of 10')\n",
        "else:\n",
        "  print('The number is not a mutiple of 10')"
      ],
      "metadata": {
        "colab": {
          "base_uri": "https://localhost:8080/"
        },
        "id": "H5ez24VyA2sa",
        "outputId": "5158e805-44d5-42b2-86f8-677afa250581"
      },
      "execution_count": 5,
      "outputs": [
        {
          "output_type": "stream",
          "name": "stdout",
          "text": [
            "I can guess wether the number you enter is a mutiple of 10 or not55\n",
            "The number is not a mutiple of 10\n"
          ]
        }
      ]
    },
    {
      "cell_type": "code",
      "source": [
        "while True:\n",
        "    age_input = input(\"Please enter your age (or type '0' to exit):\")\n",
        "\n",
        "    if age_input.isdigit():\n",
        "      age = int(age_input)\n",
        "      if age < 0:\n",
        "        print(\"Age cannot be negative, enter a valid number\")\n",
        "      elif age == 0:\n",
        "        print(\"Exiting the program\")\n",
        "        break\n",
        "      elif age < 3:\n",
        "        ticket_price = 0\n",
        "      elif age >= 3 and age <= 12:\n",
        "        ticket_price = 10\n",
        "      else:\n",
        "        ticket_price = 15\n",
        "      print(f\"The cost of youre movie ticket is ${ticket_price}\")\n",
        "    else:\n",
        "      print(\"invalid input. Please enter in a valid age\")\n",
        "\n"
      ],
      "metadata": {
        "colab": {
          "base_uri": "https://localhost:8080/"
        },
        "id": "xFhDOSAYCKnj",
        "outputId": "ecfd537a-cb12-48b9-c7aa-3e0ae59d51b5"
      },
      "execution_count": 2,
      "outputs": [
        {
          "output_type": "stream",
          "name": "stdout",
          "text": [
            "Please enter your age (or type '0' to exit):12\n",
            "The cost of youre movie ticket is $10\n",
            "Please enter your age (or type '0' to exit):1\n",
            "The cost of youre movie ticket is $0\n",
            "Please enter your age (or type '0' to exit):13\n",
            "The cost of youre movie ticket is $15\n",
            "Please enter your age (or type '0' to exit):10\n",
            "The cost of youre movie ticket is $10\n",
            "Please enter your age (or type '0' to exit):5\n",
            "The cost of youre movie ticket is $10\n",
            "Please enter your age (or type '0' to exit):2\n",
            "The cost of youre movie ticket is $0\n",
            "Please enter your age (or type '0' to exit):3\n",
            "The cost of youre movie ticket is $10\n",
            "Please enter your age (or type '0' to exit):4\n",
            "The cost of youre movie ticket is $10\n",
            "Please enter your age (or type '0' to exit):0\n",
            "Exiting the program\n"
          ]
        }
      ]
    },
    {
      "cell_type": "code",
      "source": [
        "active = True\n",
        "\n",
        "while active:\n",
        "  age_input = input(\"Please enter youre age(or type 'quit' to exit): \")\n",
        "\n",
        "  if age_input.lower() == 'quit':\n",
        "    print(\"Exiting the program\")\n",
        "    active = False\n",
        "  elif age_input.isdigit():\n",
        "    age = int(age_input)\n",
        "    if age < 0:\n",
        "      print(\"Age cannot be negative, Enter a valid age\")\n",
        "    elif 3:\n",
        "      ticket_price = 0\n",
        "    elif age >= 3 and age <= 12:\n",
        "      ticket_price = 10\n",
        "    else:\n",
        "      ticket_price = 15\n",
        "\n",
        "    print(f\"The cost of your movie ticket is ${ticket_price}\")\n",
        "  else:\n",
        "    print(\"Invalid input\")"
      ],
      "metadata": {
        "colab": {
          "base_uri": "https://localhost:8080/"
        },
        "id": "p6U8q_woBB6R",
        "outputId": "ae109b5e-b24f-496f-ca22-fc54ca0d823c"
      },
      "execution_count": 5,
      "outputs": [
        {
          "output_type": "stream",
          "name": "stdout",
          "text": [
            "Please enter youre age(or type 'quit' to exit): 3\n",
            "The cost of your movie ticket is $0\n",
            "Please enter youre age(or type 'quit' to exit): quit\n",
            "Exiting the program\n"
          ]
        }
      ]
    },
    {
      "cell_type": "code",
      "source": [
        "sandwich_orders = ['tuna', 'turkey', 'club', 'veggie', 'pastrami']\n",
        "\n",
        "finished_sandwiches = []\n",
        "\n",
        "while sandwich_orders:\n",
        "  current_sandwich = sandwich_orders.pop()\n",
        "  print(f\"I made your {current_sandwich} sandwich\")\n",
        "  finished_sandwiches.append(current_sandwich)\n",
        "\n",
        "print(\"\\nList of finished sandwiches: \")\n",
        "for sandwich in finished_sandwiches:\n",
        "  print(sandwich)\n",
        "print('I finished all of your sandwichs')"
      ],
      "metadata": {
        "colab": {
          "base_uri": "https://localhost:8080/"
        },
        "id": "aBfhmEMDVeSN",
        "outputId": "b022cdc1-664e-465e-90ce-83e813405dcf"
      },
      "execution_count": 6,
      "outputs": [
        {
          "output_type": "stream",
          "name": "stdout",
          "text": [
            "I made your pastrami sandwich\n",
            "I made your veggie sandwich\n",
            "I made your club sandwich\n",
            "I made your turkey sandwich\n",
            "I made your tuna sandwich\n",
            "\n",
            "List of finished sandwiches: \n",
            "pastrami\n",
            "veggie\n",
            "club\n",
            "turkey\n",
            "tuna\n"
          ]
        }
      ]
    }
  ]
}