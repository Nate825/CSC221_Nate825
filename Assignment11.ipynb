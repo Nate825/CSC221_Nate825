{
  "nbformat": 4,
  "nbformat_minor": 0,
  "metadata": {
    "colab": {
      "provenance": [],
      "authorship_tag": "ABX9TyOfjgbTwYsmIdWwjOcMRROA",
      "include_colab_link": true
    },
    "kernelspec": {
      "name": "python3",
      "display_name": "Python 3"
    },
    "language_info": {
      "name": "python"
    }
  },
  "cells": [
    {
      "cell_type": "markdown",
      "metadata": {
        "id": "view-in-github",
        "colab_type": "text"
      },
      "source": [
        "<a href=\"https://colab.research.google.com/github/Nate825/CSC221_Nate825/blob/main/Assignment11.ipynb\" target=\"_parent\"><img src=\"https://colab.research.google.com/assets/colab-badge.svg\" alt=\"Open In Colab\"/></a>"
      ]
    },
    {
      "cell_type": "code",
      "execution_count": 10,
      "metadata": {
        "id": "MFf-191RKgvp"
      },
      "outputs": [],
      "source": [
        "class Resturant:\n",
        "\n",
        "    def __init__(self, resturant_name, cuisine_type):\n",
        "      self.resturant_name = resturant_name\n",
        "      self.cuisine_type = cuisine_type\n",
        "\n",
        "    def describe_resturant(self):\n",
        "        print(f\"Resturant Name: {self.resturant_name}\")\n",
        "        print(f\"Cuisine Type: {self.cuisine_type}\")\n",
        "\n",
        "    def open_resturant(self):\n",
        "        print(f\"The resturant '{self.resturant_name}'is now open\")"
      ]
    },
    {
      "cell_type": "code",
      "source": [
        "class Resturant:\n",
        "\n",
        "    def __init__(self, resturant_name, cuisine_type):\n",
        "      self.resturant_name = resturant_name\n",
        "      self.cuisine_type = cuisine_type\n",
        "\n",
        "    def describe_resturant(self):\n",
        "        print(f\"Resturant Name: {self.resturant_name}\")\n",
        "        print(f\"Cuisine Type: {self.cuisine_type}\")\n",
        "\n",
        "    def open_resturant(self):\n",
        "        print(f\"The resturant '{self.resturant_name}'is now open\")\n",
        "\n",
        "describe_resturant = Resturant('Pizza Hut','Pizza')\n",
        "print(f\"My Resturants name is {describe_resturant.resturant_name}\")\n",
        "print(f\"My Resturant serves {describe_resturant.cuisine_type}\")"
      ],
      "metadata": {
        "colab": {
          "base_uri": "https://localhost:8080/"
        },
        "id": "U04NSjGL4L74",
        "outputId": "f8959dfe-6c3f-42ee-929e-4391d2fc9c69"
      },
      "execution_count": 11,
      "outputs": [
        {
          "output_type": "stream",
          "name": "stdout",
          "text": [
            "My Resturants name is Pizza Hut\n",
            "My Resturant serves Pizza\n"
          ]
        }
      ]
    },
    {
      "cell_type": "code",
      "source": [
        "class User:\n",
        "\n",
        "  def __init__(self, first_name, last_name, dob, home_town, age):\n",
        "    self.first_name = first_name\n",
        "    self.last_name = last_name\n",
        "    self.dob= dob\n",
        "    self.home_town = home_town\n",
        "    self.age = age\n",
        "\n",
        "\n",
        "  def describe_user(self):\n",
        "    print('User Information')\n",
        "    print(f\"Name: {self.first_name} {self.last_name}\")\n",
        "    print(f\"DOB: {self.dob}\")\n",
        "    print(f\"Home Town: {self.home_town}\")\n",
        "    print(f\"Age: {self.age}\")\n",
        "\n",
        "  def greet_user(self):\n",
        "    print(f\"Hello {self.first_name}\")\n",
        "\n",
        "user1 = User('Nate', 'Butkus', '12/28/02', 'Washingtonville', '20')\n",
        "user2 = User('John', 'Doe', '2/12/00', 'Lancaster', '19')\n",
        "user3 = User('Henry', 'Ford', '3/17/99', 'Chester', '21')\n",
        "\n",
        "user1.describe_user()\n",
        "user1.greet_user()\n",
        "\n",
        "user2.describe_user()\n",
        "user2.greet_user()\n",
        "\n",
        "user3.describe_user()\n",
        "user3.greet_user()\n",
        "\n"
      ],
      "metadata": {
        "colab": {
          "base_uri": "https://localhost:8080/"
        },
        "id": "qN37y9U78F_h",
        "outputId": "25384156-33f9-4f18-9691-08a53202995e"
      },
      "execution_count": 13,
      "outputs": [
        {
          "output_type": "stream",
          "name": "stdout",
          "text": [
            "User Information\n",
            "Name: Nate Butkus\n",
            "DOB: 12/28/02\n",
            "Home Town: Washingtonville\n",
            "Age: 20\n",
            "Hello Nate\n",
            "User Information\n",
            "Name: John Doe\n",
            "DOB: 2/12/00\n",
            "Home Town: Lancaster\n",
            "Age: 19\n",
            "Hello John\n",
            "User Information\n",
            "Name: Henry Ford\n",
            "DOB: 3/17/99\n",
            "Home Town: Chester\n",
            "Age: 21\n",
            "Hello Henry\n"
          ]
        }
      ]
    },
    {
      "cell_type": "code",
      "source": [
        "class Resturant:\n",
        "\n",
        "    def __init__(self, resturant_name, cuisine_type):\n",
        "      self.resturant_name = resturant_name\n",
        "      self.cuisine_type = cuisine_type\n",
        "\n",
        "    def describe_resturant(self):\n",
        "        print(f\"Resturant Name: {self.resturant_name}\")\n",
        "        print(f\"Cuisine Type: {self.cuisine_type}\")\n",
        "\n",
        "    def open_resturant(self):\n",
        "        print(f\"The resturant '{self.resturant_name}'is now open\")\n",
        "\n",
        "\n",
        "\n",
        "\n",
        "class IceCreamStand(Resturant):\n",
        "    def __init__(self, resturant_name, cuisine_type):\n",
        "      super().__init__(resturant_name, cuisine_type)\n",
        "      self.flavors = []\n",
        "\n",
        "    def display_flavors(self):\n",
        "      print(f\"Ice Cream Flavors at {self.resturant_name}:\")\n",
        "      for flavor in self.flavors:\n",
        "        print(flavor)\n",
        "\n",
        "ice_cream_stand = IceCreamStand(\"Skipper Dipper\", \"Ice Cream\")\n",
        "ice_cream_stand.flavors = ['Chocolate', 'Vanilla', 'Mint', 'Cookie Dough']\n",
        "ice_cream_stand.describe_resturant()\n",
        "ice_cream_stand.display_flavors()\n",
        "\n"
      ],
      "metadata": {
        "colab": {
          "base_uri": "https://localhost:8080/"
        },
        "id": "iQAI9mPRAHtG",
        "outputId": "8a3f505d-304f-4efd-af25-36a72498d95c"
      },
      "execution_count": 3,
      "outputs": [
        {
          "output_type": "stream",
          "name": "stdout",
          "text": [
            "Resturant Name: Skipper Dipper\n",
            "Cuisine Type: Ice Cream\n",
            "Ice Cream Flavors at Skipper Dipper:\n",
            "Chocolate\n",
            "Vanilla\n",
            "Mint\n",
            "Cookie Dough\n"
          ]
        }
      ]
    },
    {
      "cell_type": "code",
      "source": [
        "class User:\n",
        "\n",
        "  def __init__(self, first_name, last_name, dob, home_town, age):\n",
        "    self.first_name = first_name\n",
        "    self.last_name = last_name\n",
        "    self.dob= dob\n",
        "    self.home_town = home_town\n",
        "    self.age = age\n",
        "\n",
        "\n",
        "  def describe_user(self):\n",
        "    print('User Information')\n",
        "    print(f\"Name: {self.first_name} {self.last_name}\")\n",
        "    print(f\"DOB: {self.dob}\")\n",
        "    print(f\"Home Town: {self.home_town}\")\n",
        "    print(f\"Age: {self.age}\")\n",
        "\n",
        "  def greet_user(self):\n",
        "    print(f\"Hello {self.first_name}\")\n",
        "\n",
        "class Admin(User):\n",
        "  def __init__(self, first_name, last_name, dob, home_town, age):\n",
        "    super().__init__(first_name, last_name, dob, home_town, age)\n",
        "    self.privileges = ['can add post', 'can delete post', 'can ban user']\n",
        "\n",
        "  def show_privileges(self):\n",
        "    print(\"Administrator's Privileges:\")\n",
        "    for privilege in self.privileges:\n",
        "      print(privilege)\n",
        "\n",
        "user1 = User('Nate', 'Butkus', '12/28/02', 'Washingtonville', '20')\n",
        "user2 = User('John', 'Doe', '2/12/00', 'Lancaster', '19')\n",
        "user3 = User('Henry', 'Ford', '3/17/99', 'Chester', '21')\n",
        "\n",
        "user1.describe_user()\n",
        "user1.greet_user()\n",
        "\n",
        "user2.describe_user()\n",
        "user2.greet_user()\n",
        "\n",
        "user3.describe_user()\n",
        "user3.greet_user()\n",
        "\n",
        "admin_user = Admin('Admin', 'John', '12/28/02', 'Washingtonville', '20')\n",
        "admin_user.describe_user()\n",
        "admin_user.show_privileges()"
      ],
      "metadata": {
        "colab": {
          "base_uri": "https://localhost:8080/"
        },
        "id": "xEUzE090sOjF",
        "outputId": "76db2612-1c0b-4b24-ce64-43dbf42c6381"
      },
      "execution_count": 9,
      "outputs": [
        {
          "output_type": "stream",
          "name": "stdout",
          "text": [
            "User Information\n",
            "Name: Nate Butkus\n",
            "DOB: 12/28/02\n",
            "Home Town: Washingtonville\n",
            "Age: 20\n",
            "Hello Nate\n",
            "User Information\n",
            "Name: John Doe\n",
            "DOB: 2/12/00\n",
            "Home Town: Lancaster\n",
            "Age: 19\n",
            "Hello John\n",
            "User Information\n",
            "Name: Henry Ford\n",
            "DOB: 3/17/99\n",
            "Home Town: Chester\n",
            "Age: 21\n",
            "Hello Henry\n",
            "User Information\n",
            "Name: Admin John\n",
            "DOB: 12/28/02\n",
            "Home Town: Washingtonville\n",
            "Age: 20\n",
            "Administrator's Privileges:\n",
            "can add post\n",
            "can delete post\n",
            "can ban user\n"
          ]
        }
      ]
    }
  ]
}