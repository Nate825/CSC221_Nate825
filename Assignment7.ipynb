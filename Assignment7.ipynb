{
  "nbformat": 4,
  "nbformat_minor": 0,
  "metadata": {
    "colab": {
      "provenance": [],
      "authorship_tag": "ABX9TyNH2GEIwixkc6jDijnbDAtq",
      "include_colab_link": true
    },
    "kernelspec": {
      "name": "python3",
      "display_name": "Python 3"
    },
    "language_info": {
      "name": "python"
    }
  },
  "cells": [
    {
      "cell_type": "markdown",
      "metadata": {
        "id": "view-in-github",
        "colab_type": "text"
      },
      "source": [
        "<a href=\"https://colab.research.google.com/github/Nate825/CSC221_Nate825/blob/main/Assignment7.ipynb\" target=\"_parent\"><img src=\"https://colab.research.google.com/assets/colab-badge.svg\" alt=\"Open In Colab\"/></a>"
      ]
    },
    {
      "cell_type": "code",
      "execution_count": null,
      "metadata": {
        "colab": {
          "base_uri": "https://localhost:8080/"
        },
        "id": "8X4C2dk5Ttj9",
        "outputId": "c1ef0309-b904-44c3-c5b9-42db54fc2b4d"
      },
      "outputs": [
        {
          "output_type": "stream",
          "name": "stdout",
          "text": [
            "{'first_name': 'Jordan', 'last_name': 'Sanders', 'age': '20', 'city': 'Plattsburgh'}\n"
          ]
        }
      ],
      "source": [
        "sandbags_info = {\n",
        "    'first_name': 'Jordan',\n",
        "    'last_name': 'Sanders',\n",
        "    'age': '20',\n",
        "    'city': 'Plattsburgh',\n",
        "}\n",
        "print(sandbags_info)"
      ]
    },
    {
      "cell_type": "code",
      "source": [
        "fav_num = {\n",
        "    'Sandbags': '15',\n",
        "    'Jep': '22',\n",
        "    'Nate': '8',\n",
        "    'Kenny': '21',\n",
        "    'Larosa': '16',\n",
        "}\n",
        "print(fav_num)"
      ],
      "metadata": {
        "colab": {
          "base_uri": "https://localhost:8080/"
        },
        "id": "f3d37vN-E9sY",
        "outputId": "76f60745-a4ad-45f7-b4fc-c7e8cd542d8a"
      },
      "execution_count": null,
      "outputs": [
        {
          "output_type": "stream",
          "name": "stdout",
          "text": [
            "{'Sandbags': '15', 'Jep': '22', 'Nate': '8', 'Kenny': '21', 'Larosa': '16'}\n"
          ]
        }
      ]
    },
    {
      "cell_type": "code",
      "source": [
        "Glossery = {\n",
        "    'Dictonary': 'To allow you to connect realted pieces of info',\n",
        "    'Lists': 'Allow you to store a list of values in one place',\n",
        "    'If statments': 'Allow you to run a piece or pieces of code if the value equals the requirment',\n",
        "    'print': 'allows you to print a value to the user',\n",
        "    'PEP 8': 'allows the user to make easier to read code',\n",
        "    'loops': 'allows you to loop through a piece of code',\n",
        "    'for loops': 'allows you to run a piece a code until a requirment has been met',\n",
        "    'elif': 'when the orginal if statement doesnt meet the requirment you can use this',\n",
        "    'f\"': 'allows the user to print a statment that will indent itself before moving on to the next value',\n",
        "    '\\.n': 'allows the user to print a statement and have it be indented',\n",
        "}\n",
        "for code, description in Glossery.items():\n",
        "  print(f\"{code.title()}: {description.title()}\")"
      ],
      "metadata": {
        "colab": {
          "base_uri": "https://localhost:8080/"
        },
        "id": "tFu_sChoG5Fy",
        "outputId": "6d1605dd-085d-4e4b-f0b0-982f7a359055"
      },
      "execution_count": null,
      "outputs": [
        {
          "output_type": "stream",
          "name": "stdout",
          "text": [
            "Dictonary: To Allow You To Connect Realted Pieces Of Info\n",
            "Lists: Allow You To Store A List Of Values In One Place\n",
            "If Statments: Allow You To Run A Piece Or Pieces Of Code If The Value Equals The Requirment\n",
            "Print: Allows You To Print A Value To The User\n",
            "Pep 8: Allows The User To Make Easier To Read Code\n",
            "Loops: Allows You To Loop Through A Piece Of Code\n",
            "For Loops: Allows You To Run A Piece A Code Until A Requirment Has Been Met\n",
            "Elif: When The Orginal If Statement Doesnt Meet The Requirment You Can Use This\n",
            "F\": Allows The User To Print A Statment That Will Indent Itself Before Moving On To The Next Value\n",
            "\\.N: Allows The User To Print A Statement And Have It Be Indented\n"
          ]
        }
      ]
    },
    {
      "cell_type": "code",
      "source": [
        "cities = {\n",
        "    'New York': {\n",
        "        'country': 'United States',\n",
        "        'population': '8.80 Million',\n",
        "        'fact': 'It is the most densely populated cities in the U.S.',\n",
        "    },\n",
        "    'Los Angles': {\n",
        "        'country': 'United States',\n",
        "        'population': '3.90 Million',\n",
        "        'fact': 'It is the second largest city in the U.S.',\n",
        "    },\n",
        "    'Chicago': {\n",
        "        'country': 'Unuted States',\n",
        "        'population': '2.75 Million',\n",
        "        'fact': 'It is the third largest city in the U.S.',\n",
        "    }\n",
        "}\n",
        "\n",
        "for city, info in cities.items():\n",
        "    print(f\"City: {city}\")\n",
        "    print(f\"Country: {info['country']}\")\n",
        "    print(f\"Population: {info['population']}\")\n",
        "    print(f\"Fact: {info['fact']}\")\n",
        "    print()\n",
        "\n",
        "\n",
        ""
      ],
      "metadata": {
        "id": "J1TYlbvgN18u",
        "colab": {
          "base_uri": "https://localhost:8080/"
        },
        "outputId": "ca4b189c-2b79-4e3e-df36-68af7ab7b86a"
      },
      "execution_count": 10,
      "outputs": [
        {
          "output_type": "stream",
          "name": "stdout",
          "text": [
            "City: New York\n",
            "Country: United States\n",
            "Population: 8.80 Million\n",
            "Fact: It is the most densely populated cities in the U.S.\n",
            "\n",
            "City: Los Angles\n",
            "Country: United States\n",
            "Population: 3.90 Million\n",
            "Fact: It is the second largest city in the U.S.\n",
            "\n",
            "City: Chicago\n",
            "Country: Unuted States\n",
            "Population: 2.75 Million\n",
            "Fact: It is the third largest city in the U.S.\n",
            "\n"
          ]
        }
      ]
    },
    {
      "cell_type": "code",
      "source": [
        "friends = {\n",
        "    'friend1': {\n",
        "        'first': 'Kyle',\n",
        "        'last': 'Jep',\n",
        "        'age': '21',\n",
        "        'city': 'New York',\n",
        "    },\n",
        "    'friend2': {\n",
        "        'first': 'Jordan',\n",
        "        'last': 'Sanders',\n",
        "        'age': '20',\n",
        "        'city': 'New York',\n",
        "    },\n",
        "    'friend3': {\n",
        "        'first': 'Jon',\n",
        "        'last': 'Soma',\n",
        "        'age': '21',\n",
        "        'city': 'New York',\n",
        "    }\n",
        "}\n",
        "for friend, friend_info in friends.items():\n",
        "  print(f\"Friend: {friend}\")\n",
        "  print(f\"First: {friend_info['first']}\")\n",
        "  print(f\"Last: {friend_info['last']}\")\n",
        "  print(f\"Age: {friend_info['age']}\")\n",
        "  print(f\"City: {friend_info['city']}\")\n",
        "  print()"
      ],
      "metadata": {
        "colab": {
          "base_uri": "https://localhost:8080/"
        },
        "id": "OY2xpml1yon5",
        "outputId": "847e7deb-88a2-46fa-8cfd-28c4747514ce"
      },
      "execution_count": 14,
      "outputs": [
        {
          "output_type": "stream",
          "name": "stdout",
          "text": [
            "Friend: friend1\n",
            "First: Kyle\n",
            "Last: Jep\n",
            "Age: 21\n",
            "City: New York\n",
            "\n",
            "Friend: friend2\n",
            "First: Jordan\n",
            "Last: Sanders\n",
            "Age: 20\n",
            "City: New York\n",
            "\n",
            "Friend: friend3\n",
            "First: Jon\n",
            "Last: Soma\n",
            "Age: 21\n",
            "City: New York\n",
            "\n"
          ]
        }
      ]
    }
  ]
}