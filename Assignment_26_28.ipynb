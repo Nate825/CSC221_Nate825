{
  "nbformat": 4,
  "nbformat_minor": 0,
  "metadata": {
    "colab": {
      "provenance": [],
      "authorship_tag": "ABX9TyNmqwmKddQ4GFv36gQsv5fy",
      "include_colab_link": true
    },
    "kernelspec": {
      "name": "python3",
      "display_name": "Python 3"
    },
    "language_info": {
      "name": "python"
    }
  },
  "cells": [
    {
      "cell_type": "markdown",
      "metadata": {
        "id": "view-in-github",
        "colab_type": "text"
      },
      "source": [
        "<a href=\"https://colab.research.google.com/github/Nate825/CSC221_Nate825/blob/main/Assignment_26_28.ipynb\" target=\"_parent\"><img src=\"https://colab.research.google.com/assets/colab-badge.svg\" alt=\"Open In Colab\"/></a>"
      ]
    },
    {
      "cell_type": "code",
      "execution_count": null,
      "metadata": {
        "id": "4xvTmhOJjgt6"
      },
      "outputs": [],
      "source": [
        "#Nate Butkus CSC 221A"
      ]
    },
    {
      "cell_type": "code",
      "source": [
        "#int float string\n",
        "int_example = 13\n",
        "float_example = 12.4\n",
        "string_example = 'Hello world'\n",
        "print(int_example)\n",
        "print(float_example)\n",
        "print(string_example)"
      ],
      "metadata": {
        "colab": {
          "base_uri": "https://localhost:8080/"
        },
        "id": "kp19KPZYlDze",
        "outputId": "ca5fefb0-257b-42fa-a247-e85aa97f908a"
      },
      "execution_count": null,
      "outputs": [
        {
          "output_type": "stream",
          "name": "stdout",
          "text": [
            "13\n",
            "12.4\n",
            "Hello world\n"
          ]
        }
      ]
    },
    {
      "cell_type": "code",
      "source": [
        "#f-string\n",
        "name = 'Nate'\n",
        "fav_color = 'blue'\n",
        "print(f\"{name}'s favorite color is {fav_color}\")"
      ],
      "metadata": {
        "colab": {
          "base_uri": "https://localhost:8080/"
        },
        "id": "WOGtsNgInBn_",
        "outputId": "36a120a7-531e-485b-cdc8-a8ee4b782d03"
      },
      "execution_count": null,
      "outputs": [
        {
          "output_type": "stream",
          "name": "stdout",
          "text": [
            "Nate's favorite color is blue\n"
          ]
        }
      ]
    },
    {
      "cell_type": "code",
      "source": [
        "#methods of the string class\n",
        "test1 = '     My Name is Nate    '\n",
        "print(test1.upper())\n",
        "print(test1.lower())\n",
        "print(test1.strip())\n",
        "print(test1.lstrip())\n",
        "print(test1.rstrip())\n",
        "test2 = test1.replace('Nate', 'Joe')\n",
        "print(test2)\n"
      ],
      "metadata": {
        "colab": {
          "base_uri": "https://localhost:8080/"
        },
        "id": "NUqWl4pau0bV",
        "outputId": "e8298720-86f4-44aa-af98-05ecd9b95e08"
      },
      "execution_count": null,
      "outputs": [
        {
          "output_type": "stream",
          "name": "stdout",
          "text": [
            "     MY NAME IS NATE    \n",
            "     my name is nate    \n",
            "My Name is Nate\n",
            "My Name is Nate    \n",
            "     My Name is Nate\n",
            "     My Name is Joe    \n"
          ]
        }
      ]
    },
    {
      "cell_type": "code",
      "source": [
        "#list\n",
        "brands = ['Honda', 'Kia', 'Ford', 'Suberu', 'Tesla']\n",
        "print(brands[0])\n",
        "brands.append('Dodge')\n",
        "for brand in brands:\n",
        "  print(brand)\n",
        "del brands[0]\n",
        "for brand in brands:\n",
        "  print(brand)\n"
      ],
      "metadata": {
        "colab": {
          "base_uri": "https://localhost:8080/"
        },
        "id": "y4_4K1_E6aXC",
        "outputId": "c9efda18-25af-4076-8b42-d689b4a4b08e"
      },
      "execution_count": null,
      "outputs": [
        {
          "output_type": "stream",
          "name": "stdout",
          "text": [
            "Honda\n",
            "Honda\n",
            "Kia\n",
            "Ford\n",
            "Suberu\n",
            "Tesla\n",
            "Dodge\n",
            "Kia\n",
            "Ford\n",
            "Suberu\n",
            "Tesla\n",
            "Dodge\n"
          ]
        }
      ]
    },
    {
      "cell_type": "code",
      "source": [
        "#list of lists\n",
        "menu = [\n",
        "    ['Pasta', 'Entree', '12.99'],\n",
        "    ['Garlic Bread', 'Appitizer', '8.99'],\n",
        "    ['Pizza', 'Entree', '14.99'],\n",
        "    ['Pie', 'Desert', '7.99'],\n",
        "    ['Salad', 'Appitizer', '10.99'],\n",
        "    ['Chiken Parm', 'Entree', '13.99'],\n",
        "    ['Cake', 'Desert', '7.99']\n",
        "]\n",
        "for dish in menu:\n",
        "  print(f'Name: {dish[0]}, Course: {dish[1]}, Price: {dish[2]}')\n",
        "for dish in menu:\n",
        "  if dish[0] == 'Garlic Bread':\n",
        "    dish[2] = '6.99'\n",
        "    print(f'The garlic bread is on sale')\n",
        "new_dish = ['Soup of the day', 'Appitizer', '7.99']\n",
        "menu.append(new_dish)\n",
        "print(f'The new menu is')\n",
        "for dish in menu:\n",
        "  print(f'Name: {dish[0]}, Course: {dish[1]}, Price: {dish[2]}')"
      ],
      "metadata": {
        "colab": {
          "base_uri": "https://localhost:8080/"
        },
        "id": "adDsYYPl8zmO",
        "outputId": "9b68161b-e6d9-4cb6-bfdf-8625005c4eaa"
      },
      "execution_count": null,
      "outputs": [
        {
          "output_type": "stream",
          "name": "stdout",
          "text": [
            "Name: Pasta, Course: Entree, Price: 12.99\n",
            "Name: Garlic Bread, Course: Appitizer, Price: 8.99\n",
            "Name: Pizza, Course: Entree, Price: 14.99\n",
            "Name: Pie, Course: Desert, Price: 7.99\n",
            "Name: Salad, Course: Appitizer, Price: 10.99\n",
            "Name: Chiken Parm, Course: Entree, Price: 13.99\n",
            "Name: Cake, Course: Desert, Price: 7.99\n",
            "The garlic bread is on sale\n",
            "The new menu is\n",
            "Name: Pasta, Course: Entree, Price: 12.99\n",
            "Name: Garlic Bread, Course: Appitizer, Price: 6.99\n",
            "Name: Pizza, Course: Entree, Price: 14.99\n",
            "Name: Pie, Course: Desert, Price: 7.99\n",
            "Name: Salad, Course: Appitizer, Price: 10.99\n",
            "Name: Chiken Parm, Course: Entree, Price: 13.99\n",
            "Name: Cake, Course: Desert, Price: 7.99\n",
            "Name: Soup of the day, Course: Appitizer, Price: 7.99\n"
          ]
        }
      ]
    },
    {
      "cell_type": "code",
      "source": [
        "#print a list in sorted order\n",
        "brands = ['Honda', 'Kia', 'Ford', 'Suberu', 'Tesla']\n",
        "print(brands)\n",
        "sorted_brands = sorted(brands)\n",
        "print(brands)\n",
        "print(sorted_brands)"
      ],
      "metadata": {
        "colab": {
          "base_uri": "https://localhost:8080/"
        },
        "id": "LQeDfy8rNrzN",
        "outputId": "ee21f3e6-7120-434f-d68c-2867df83ab53"
      },
      "execution_count": null,
      "outputs": [
        {
          "output_type": "stream",
          "name": "stdout",
          "text": [
            "['Honda', 'Kia', 'Ford', 'Suberu', 'Tesla']\n",
            "['Honda', 'Kia', 'Ford', 'Suberu', 'Tesla']\n",
            "['Ford', 'Honda', 'Kia', 'Suberu', 'Tesla']\n"
          ]
        }
      ]
    },
    {
      "cell_type": "code",
      "source": [
        "#for and range\n",
        "num = [1,2,3,4,5,6]\n",
        "print(num)\n",
        "for num in range(7):\n",
        "  print(num)"
      ],
      "metadata": {
        "colab": {
          "base_uri": "https://localhost:8080/"
        },
        "id": "hf74rigWRh7v",
        "outputId": "4a54255f-c993-40b8-963f-5d10badf67c8"
      },
      "execution_count": null,
      "outputs": [
        {
          "output_type": "stream",
          "name": "stdout",
          "text": [
            "[1, 2, 3, 4, 5, 6]\n",
            "0\n",
            "1\n",
            "2\n",
            "3\n",
            "4\n",
            "5\n",
            "6\n"
          ]
        }
      ]
    },
    {
      "cell_type": "code",
      "source": [
        "#Printing a series of squares of all numbers from 1 to 1000 that are not multiples of 7 using list comprehension.\n",
        "squares = [x**2 for x in range(1,1001) if x % 7 != 0]\n",
        "print(squares)"
      ],
      "metadata": {
        "colab": {
          "base_uri": "https://localhost:8080/"
        },
        "id": "MYZsoIRIR6Kg",
        "outputId": "9e75db5c-ec36-4a77-aa23-109f005919e6"
      },
      "execution_count": null,
      "outputs": [
        {
          "output_type": "stream",
          "name": "stdout",
          "text": [
            "[1, 4, 9, 16, 25, 36, 64, 81, 100, 121, 144, 169, 225, 256, 289, 324, 361, 400, 484, 529, 576, 625, 676, 729, 841, 900, 961, 1024, 1089, 1156, 1296, 1369, 1444, 1521, 1600, 1681, 1849, 1936, 2025, 2116, 2209, 2304, 2500, 2601, 2704, 2809, 2916, 3025, 3249, 3364, 3481, 3600, 3721, 3844, 4096, 4225, 4356, 4489, 4624, 4761, 5041, 5184, 5329, 5476, 5625, 5776, 6084, 6241, 6400, 6561, 6724, 6889, 7225, 7396, 7569, 7744, 7921, 8100, 8464, 8649, 8836, 9025, 9216, 9409, 9801, 10000, 10201, 10404, 10609, 10816, 11236, 11449, 11664, 11881, 12100, 12321, 12769, 12996, 13225, 13456, 13689, 13924, 14400, 14641, 14884, 15129, 15376, 15625, 16129, 16384, 16641, 16900, 17161, 17424, 17956, 18225, 18496, 18769, 19044, 19321, 19881, 20164, 20449, 20736, 21025, 21316, 21904, 22201, 22500, 22801, 23104, 23409, 24025, 24336, 24649, 24964, 25281, 25600, 26244, 26569, 26896, 27225, 27556, 27889, 28561, 28900, 29241, 29584, 29929, 30276, 30976, 31329, 31684, 32041, 32400, 32761, 33489, 33856, 34225, 34596, 34969, 35344, 36100, 36481, 36864, 37249, 37636, 38025, 38809, 39204, 39601, 40000, 40401, 40804, 41616, 42025, 42436, 42849, 43264, 43681, 44521, 44944, 45369, 45796, 46225, 46656, 47524, 47961, 48400, 48841, 49284, 49729, 50625, 51076, 51529, 51984, 52441, 52900, 53824, 54289, 54756, 55225, 55696, 56169, 57121, 57600, 58081, 58564, 59049, 59536, 60516, 61009, 61504, 62001, 62500, 63001, 64009, 64516, 65025, 65536, 66049, 66564, 67600, 68121, 68644, 69169, 69696, 70225, 71289, 71824, 72361, 72900, 73441, 73984, 75076, 75625, 76176, 76729, 77284, 77841, 78961, 79524, 80089, 80656, 81225, 81796, 82944, 83521, 84100, 84681, 85264, 85849, 87025, 87616, 88209, 88804, 89401, 90000, 91204, 91809, 92416, 93025, 93636, 94249, 95481, 96100, 96721, 97344, 97969, 98596, 99856, 100489, 101124, 101761, 102400, 103041, 104329, 104976, 105625, 106276, 106929, 107584, 108900, 109561, 110224, 110889, 111556, 112225, 113569, 114244, 114921, 115600, 116281, 116964, 118336, 119025, 119716, 120409, 121104, 121801, 123201, 123904, 124609, 125316, 126025, 126736, 128164, 128881, 129600, 130321, 131044, 131769, 133225, 133956, 134689, 135424, 136161, 136900, 138384, 139129, 139876, 140625, 141376, 142129, 143641, 144400, 145161, 145924, 146689, 147456, 148996, 149769, 150544, 151321, 152100, 152881, 154449, 155236, 156025, 156816, 157609, 158404, 160000, 160801, 161604, 162409, 163216, 164025, 165649, 166464, 167281, 168100, 168921, 169744, 171396, 172225, 173056, 173889, 174724, 175561, 177241, 178084, 178929, 179776, 180625, 181476, 183184, 184041, 184900, 185761, 186624, 187489, 189225, 190096, 190969, 191844, 192721, 193600, 195364, 196249, 197136, 198025, 198916, 199809, 201601, 202500, 203401, 204304, 205209, 206116, 207936, 208849, 209764, 210681, 211600, 212521, 214369, 215296, 216225, 217156, 218089, 219024, 220900, 221841, 222784, 223729, 224676, 225625, 227529, 228484, 229441, 230400, 231361, 232324, 234256, 235225, 236196, 237169, 238144, 239121, 241081, 242064, 243049, 244036, 245025, 246016, 248004, 249001, 250000, 251001, 252004, 253009, 255025, 256036, 257049, 258064, 259081, 260100, 262144, 263169, 264196, 265225, 266256, 267289, 269361, 270400, 271441, 272484, 273529, 274576, 276676, 277729, 278784, 279841, 280900, 281961, 284089, 285156, 286225, 287296, 288369, 289444, 291600, 292681, 293764, 294849, 295936, 297025, 299209, 300304, 301401, 302500, 303601, 304704, 306916, 308025, 309136, 310249, 311364, 312481, 314721, 315844, 316969, 318096, 319225, 320356, 322624, 323761, 324900, 326041, 327184, 328329, 330625, 331776, 332929, 334084, 335241, 336400, 338724, 339889, 341056, 342225, 343396, 344569, 346921, 348100, 349281, 350464, 351649, 352836, 355216, 356409, 357604, 358801, 360000, 361201, 363609, 364816, 366025, 367236, 368449, 369664, 372100, 373321, 374544, 375769, 376996, 378225, 380689, 381924, 383161, 384400, 385641, 386884, 389376, 390625, 391876, 393129, 394384, 395641, 398161, 399424, 400689, 401956, 403225, 404496, 407044, 408321, 409600, 410881, 412164, 413449, 416025, 417316, 418609, 419904, 421201, 422500, 425104, 426409, 427716, 429025, 430336, 431649, 434281, 435600, 436921, 438244, 439569, 440896, 443556, 444889, 446224, 447561, 448900, 450241, 452929, 454276, 455625, 456976, 458329, 459684, 462400, 463761, 465124, 466489, 467856, 469225, 471969, 473344, 474721, 476100, 477481, 478864, 481636, 483025, 484416, 485809, 487204, 488601, 491401, 492804, 494209, 495616, 497025, 498436, 501264, 502681, 504100, 505521, 506944, 508369, 511225, 512656, 514089, 515524, 516961, 518400, 521284, 522729, 524176, 525625, 527076, 528529, 531441, 532900, 534361, 535824, 537289, 538756, 541696, 543169, 544644, 546121, 547600, 549081, 552049, 553536, 555025, 556516, 558009, 559504, 562500, 564001, 565504, 567009, 568516, 570025, 573049, 574564, 576081, 577600, 579121, 580644, 583696, 585225, 586756, 588289, 589824, 591361, 594441, 595984, 597529, 599076, 600625, 602176, 605284, 606841, 608400, 609961, 611524, 613089, 616225, 617796, 619369, 620944, 622521, 624100, 627264, 628849, 630436, 632025, 633616, 635209, 638401, 640000, 641601, 643204, 644809, 646416, 649636, 651249, 652864, 654481, 656100, 657721, 660969, 662596, 664225, 665856, 667489, 669124, 672400, 674041, 675684, 677329, 678976, 680625, 683929, 685584, 687241, 688900, 690561, 692224, 695556, 697225, 698896, 700569, 702244, 703921, 707281, 708964, 710649, 712336, 714025, 715716, 719104, 720801, 722500, 724201, 725904, 727609, 731025, 732736, 734449, 736164, 737881, 739600, 743044, 744769, 746496, 748225, 749956, 751689, 755161, 756900, 758641, 760384, 762129, 763876, 767376, 769129, 770884, 772641, 774400, 776161, 779689, 781456, 783225, 784996, 786769, 788544, 792100, 793881, 795664, 797449, 799236, 801025, 804609, 806404, 808201, 810000, 811801, 813604, 817216, 819025, 820836, 822649, 824464, 826281, 829921, 831744, 833569, 835396, 837225, 839056, 842724, 844561, 846400, 848241, 850084, 851929, 855625, 857476, 859329, 861184, 863041, 864900, 868624, 870489, 872356, 874225, 876096, 877969, 881721, 883600, 885481, 887364, 889249, 891136, 894916, 896809, 898704, 900601, 902500, 904401, 908209, 910116, 912025, 913936, 915849, 917764, 921600, 923521, 925444, 927369, 929296, 931225, 935089, 937024, 938961, 940900, 942841, 944784, 948676, 950625, 952576, 954529, 956484, 958441, 962361, 964324, 966289, 968256, 970225, 972196, 976144, 978121, 980100, 982081, 984064, 986049, 990025, 992016, 994009, 996004, 998001, 1000000]\n"
          ]
        }
      ]
    },
    {
      "cell_type": "code",
      "source": [
        "#Generating all of the prime numbers from 2 to 1000 using the Sieve of Eratosthenes which I suggest you ask ChatGPT for help on\n",
        "def Sieve_of_Eratosthenes(limit):\n",
        "    primes = []\n",
        "    is_prime = [True] * (limit + 1)\n",
        "    for num in range(2, int(limit**0.5) + 1):\n",
        "      if is_prime[num]:\n",
        "        primes.append(num)\n",
        "        for multiple in range(num * num, limit + 1, num):\n",
        "          is_prime[multiple] = False\n",
        "\n",
        "    for num in range(max(2, int(limit**0.5) + 1), limit + 1):\n",
        "      if is_prime[num]:\n",
        "        primes.append(num)\n",
        "    return primes\n",
        "\n",
        "primes_1000 = Sieve_of_Eratosthenes(1000)\n",
        "print(primes_1000)\n"
      ],
      "metadata": {
        "colab": {
          "base_uri": "https://localhost:8080/"
        },
        "id": "bV1rRS0MSoOt",
        "outputId": "c71fc705-949c-4acc-cdf8-1a0c7d5482f7"
      },
      "execution_count": null,
      "outputs": [
        {
          "output_type": "stream",
          "name": "stdout",
          "text": [
            "[2, 3, 5, 7, 11, 13, 17, 19, 23, 29, 31, 37, 41, 43, 47, 53, 59, 61, 67, 71, 73, 79, 83, 89, 97, 101, 103, 107, 109, 113, 127, 131, 137, 139, 149, 151, 157, 163, 167, 173, 179, 181, 191, 193, 197, 199, 211, 223, 227, 229, 233, 239, 241, 251, 257, 263, 269, 271, 277, 281, 283, 293, 307, 311, 313, 317, 331, 337, 347, 349, 353, 359, 367, 373, 379, 383, 389, 397, 401, 409, 419, 421, 431, 433, 439, 443, 449, 457, 461, 463, 467, 479, 487, 491, 499, 503, 509, 521, 523, 541, 547, 557, 563, 569, 571, 577, 587, 593, 599, 601, 607, 613, 617, 619, 631, 641, 643, 647, 653, 659, 661, 673, 677, 683, 691, 701, 709, 719, 727, 733, 739, 743, 751, 757, 761, 769, 773, 787, 797, 809, 811, 821, 823, 827, 829, 839, 853, 857, 859, 863, 877, 881, 883, 887, 907, 911, 919, 929, 937, 941, 947, 953, 967, 971, 977, 983, 991, 997]\n"
          ]
        }
      ]
    },
    {
      "cell_type": "code",
      "source": [
        "#Create a generator from your function above that you can use to print the first N prime numbers.\n",
        "\n",
        "def sieve_of_eratosthenes(limit):\n",
        "  primes = []\n",
        "  is_prime = [True] * (limit + 1)\n",
        "\n",
        "  for num in range(2, int(limit**0.5) + 1):\n",
        "    if is_prime[num]:\n",
        "      primes.append(num)\n",
        "      is_prime[num*num:limit+1:num] = [False] * len(range(num*num, limit+1, num))\n",
        "\n",
        "  for num in range(max(2, int(limit**0.5) + 1), limit + 1):\n",
        "    if is_prime[num]:\n",
        "      primes.append(num)\n",
        "\n",
        "  return primes\n",
        "\n",
        "def my_prime_generator(N):\n",
        "  primes = sieve = sieve_of_eratosthenes(N**2)\n",
        "  return primes[:N]\n",
        "for x in my_prime_generator(46):\n",
        "  print(x)"
      ],
      "metadata": {
        "id": "omhrtkDqpfpn",
        "colab": {
          "base_uri": "https://localhost:8080/"
        },
        "outputId": "dfa51244-1bcc-4391-b150-3e4e0d0d8fd6"
      },
      "execution_count": null,
      "outputs": [
        {
          "output_type": "stream",
          "name": "stdout",
          "text": [
            "2\n",
            "3\n",
            "5\n",
            "7\n",
            "11\n",
            "13\n",
            "17\n",
            "19\n",
            "23\n",
            "29\n",
            "31\n",
            "37\n",
            "41\n",
            "43\n",
            "47\n",
            "53\n",
            "59\n",
            "61\n",
            "67\n",
            "71\n",
            "73\n",
            "79\n",
            "83\n",
            "89\n",
            "97\n",
            "101\n",
            "103\n",
            "107\n",
            "109\n",
            "113\n",
            "127\n",
            "131\n",
            "137\n",
            "139\n",
            "149\n",
            "151\n",
            "157\n",
            "163\n",
            "167\n",
            "173\n",
            "179\n",
            "181\n",
            "191\n",
            "193\n",
            "197\n",
            "199\n"
          ]
        }
      ]
    },
    {
      "cell_type": "code",
      "source": [
        "#Generate 1000 random integers in a list (random.randint(...)) and print their min, max, sum, and average.\n",
        "\n",
        "import random\n",
        "\n",
        "random_int = [random.randint(1, 100) for _ in range(1000)]\n",
        "print(f'Min = {min(random_int)}')\n",
        "print(f'Max = {max(random_int)}')\n",
        "print(f'Sum = {sum(random_int)}')\n",
        "print(f'Average = {sum(random_int) / len(random_int): .2f}')"
      ],
      "metadata": {
        "colab": {
          "base_uri": "https://localhost:8080/"
        },
        "id": "UqhyU_AYlvDX",
        "outputId": "1c1fe850-6fc5-4ce5-80e7-78de0fa22edf"
      },
      "execution_count": null,
      "outputs": [
        {
          "output_type": "stream",
          "name": "stdout",
          "text": [
            "Min = 1\n",
            "Max = 100\n",
            "Sum = 49709\n",
            "Average =  49.71\n"
          ]
        }
      ]
    },
    {
      "cell_type": "code",
      "source": [
        "#Write a simple function that uses if, elif, and else and show that it works\n",
        "#Simple code that asks the user for a number and returns wether it is positive negative or Zero\n",
        "def check_num(num):\n",
        "  if num > 0:\n",
        "    return \"Positive\"\n",
        "  elif num < 0:\n",
        "    return \"Negative\"\n",
        "  else:\n",
        "    return \"Zero\"\n",
        "test_num = int(input('Enter a Number: '))\n",
        "results = check_num(test_num)\n",
        "print(f'The number is {results}')"
      ],
      "metadata": {
        "colab": {
          "base_uri": "https://localhost:8080/"
        },
        "id": "lSRAnJuZnC0Z",
        "outputId": "8eff6600-25ee-4e42-9d38-7ee099cfedae"
      },
      "execution_count": null,
      "outputs": [
        {
          "output_type": "stream",
          "name": "stdout",
          "text": [
            "Enter a Number: 10\n",
            "The number is Positive\n"
          ]
        }
      ]
    },
    {
      "cell_type": "code",
      "source": [
        "#Show me three things from PEP-8 that surprise you\n",
        "\n",
        "'''\n",
        "1. The first thing that surprised me about the PEP-8 guidlines is how they adress\n",
        "the use of comments and how it discourages the use of inline comments\n",
        "2. The second thing that surprised me about the PEP-8 guidlines is how it tells\n",
        "you to format Imports which should be grouped in the order Standard library imports,\n",
        "Related third-party imports, and local application/library specific imports\n",
        "3. Lastly how PEP-8 talks about the use of Indentation which recommends using\n",
        "4 spaces per indentation level while most languages use 2\n",
        "'''"
      ],
      "metadata": {
        "id": "mUiIui-DpRre"
      },
      "execution_count": null,
      "outputs": []
    },
    {
      "cell_type": "code",
      "source": [
        "#Create a file using %%file testfile.txt in Colab. The file should contain lines like the following\n",
        "%%writefile testfile.txt\n",
        "Amy, cat\n",
        "Fred, dog\n",
        "Hunter, dog\n",
        "Peena, parakeet\n",
        "Rover, dog"
      ],
      "metadata": {
        "colab": {
          "base_uri": "https://localhost:8080/"
        },
        "id": "ZfPohebQtgRC",
        "outputId": "f7445d28-294f-4a7b-f91f-0b1ccb586450"
      },
      "execution_count": null,
      "outputs": [
        {
          "output_type": "stream",
          "name": "stdout",
          "text": [
            "Writing testfile.txt\n"
          ]
        }
      ]
    },
    {
      "cell_type": "code",
      "source": [
        "#Read that file in and convert it to a dictionary. Show how you can lookup pet type by using pet name with your dictionary\n",
        "\n",
        "pet_dict = {}\n",
        "with open('testfile.txt', 'r') as file:\n",
        "  for line in file:\n",
        "    name, pet_type = line.strip().split(', ')\n",
        "    pet_dict[name] = pet_type\n",
        "print('Pet Names:', list(pet_dict.keys()))\n",
        "\n",
        "search_pet = input('Enter a pets name to search which pet type it is:')\n",
        "pet_type = pet_dict.get(search_pet, 'Not Found')\n",
        "print(f'{search_pet} is {pet_type}')"
      ],
      "metadata": {
        "colab": {
          "base_uri": "https://localhost:8080/"
        },
        "id": "I9d1wCjjuNHz",
        "outputId": "a9560d6b-c73c-435e-aed6-ab3d81d8e1a9"
      },
      "execution_count": null,
      "outputs": [
        {
          "output_type": "stream",
          "name": "stdout",
          "text": [
            "Pet Names: ['Amy', 'Fred', 'Hunter', 'Peena', 'Rover']\n",
            "Enter a pets name to search which pet type it is:Fred\n",
            "Fred is dog\n"
          ]
        }
      ]
    },
    {
      "cell_type": "code",
      "source": [
        "#Generate a list of all the unique pet types in the dictionary. Use a set to make this happen\n",
        "\n",
        "pet_dict = {}\n",
        "with open('testfile.txt', 'r') as file:\n",
        "  for line in file:\n",
        "    name, pet_type = line.strip().split(', ')\n",
        "    pet_dict[name.lower()] = pet_type.lower()\n",
        "unique = set(pet_dict.values())\n",
        "print('Unique pet types are:', list(unique))"
      ],
      "metadata": {
        "colab": {
          "base_uri": "https://localhost:8080/"
        },
        "id": "t2lXJXTru61B",
        "outputId": "06c05c5b-115d-468c-bb09-6ec23e9113bc"
      },
      "execution_count": null,
      "outputs": [
        {
          "output_type": "stream",
          "name": "stdout",
          "text": [
            "Unique pet types are: ['cat', 'parakeet', 'dog']\n"
          ]
        }
      ]
    },
    {
      "cell_type": "code",
      "source": [
        "#Use a while loop to print the numbers from 80 down to 16 by 8. Do not use for or range\n",
        "num = 80\n",
        "while num >= 16:\n",
        "  print(num)\n",
        "  num -= 8"
      ],
      "metadata": {
        "colab": {
          "base_uri": "https://localhost:8080/"
        },
        "id": "u6amgg7oznTx",
        "outputId": "811881c5-28dc-4a57-97b5-bc469d3d6546"
      },
      "execution_count": null,
      "outputs": [
        {
          "output_type": "stream",
          "name": "stdout",
          "text": [
            "80\n",
            "72\n",
            "64\n",
            "56\n",
            "48\n",
            "40\n",
            "32\n",
            "24\n",
            "16\n"
          ]
        }
      ]
    },
    {
      "cell_type": "code",
      "source": [
        "#Write a function that takes three numbers and returns their min, max, and sum as a tuple\n",
        "\n",
        "def min_max_sum(num1, num2, num3):\n",
        "  return min(num1, num2, num3), max(num1, num2, num3), num1 + num2 + num3\n",
        "result = min_max_sum(6, 25, -4)\n",
        "print(f'The min is: {result[0]}\\nThe max is: {result[1]}\\nThe sum is: {result[2]}')"
      ],
      "metadata": {
        "colab": {
          "base_uri": "https://localhost:8080/"
        },
        "id": "Tu0peiwxz5kV",
        "outputId": "8ea2fa07-bc0f-4805-9f16-57229906da22"
      },
      "execution_count": null,
      "outputs": [
        {
          "output_type": "stream",
          "name": "stdout",
          "text": [
            "The min is: -4\n",
            "The max is: 25\n",
            "The sum is: 27\n"
          ]
        }
      ]
    },
    {
      "cell_type": "code",
      "source": [
        "#Write a function that takes any number of numbers and returns their min, max, and sum as a tuple\n",
        "def min_max_sum(*args):\n",
        "  return min(args), max(args), sum(args)\n",
        "result = min_max_sum(89, 25, -4, 190, 0)\n",
        "print(result)\n"
      ],
      "metadata": {
        "colab": {
          "base_uri": "https://localhost:8080/"
        },
        "id": "ETd9y_Sj2kJ7",
        "outputId": "dccbb6a6-e032-4b56-cc32-d5c5fb38fca2"
      },
      "execution_count": null,
      "outputs": [
        {
          "output_type": "stream",
          "name": "stdout",
          "text": [
            "(-4, 190, 300)\n"
          ]
        }
      ]
    },
    {
      "cell_type": "code",
      "source": [
        "#Create a decorator called traceroo and use it to print messages showing how your function above executes\n",
        "\n",
        "def traceroo(func):\n",
        "  def wrapper(*args, **kwargs):\n",
        "    print(f'{func.__name__} with {args}')\n",
        "    result = func(*args, **kwargs)\n",
        "    print(f'{func.__name__} result: {result}')\n",
        "    return result\n",
        "  return wrapper\n",
        "\n",
        "def min_max_sum(*args):\n",
        "  return min(args), max(args), sum(args)\n",
        "\n",
        "result = min_max_sum(89, 25, -4, 24, 0)\n",
        "result"
      ],
      "metadata": {
        "colab": {
          "base_uri": "https://localhost:8080/"
        },
        "id": "8_N19bki3XF5",
        "outputId": "e22e11c3-91c4-4f33-c797-9adcd45acd81"
      },
      "execution_count": null,
      "outputs": [
        {
          "output_type": "execute_result",
          "data": {
            "text/plain": [
              "(-4, 89, 134)"
            ]
          },
          "metadata": {},
          "execution_count": 65
        }
      ]
    },
    {
      "cell_type": "code",
      "source": [
        "#Create a class that uses __init__, __repr__, __str__, and __add__. Demonstrate that all of the methods work\n",
        "\n",
        "class Car:\n",
        "  def __init__(self, make, model, year):\n",
        "    self.make = make\n",
        "    self.year = year\n",
        "    self.model = model\n",
        "\n",
        "  def __repr__(self):\n",
        "    return f\"Car('{self.make}', '{self.model}', {self.year})\"\n",
        "\n",
        "  def __str__(self):\n",
        "    return f'{self.year} {self.make} {self.model}'\n",
        "\n",
        "  def __add__(self, other):\n",
        "    if isinstance(other, Car):\n",
        "      return Car(f'{self.make} and {other.make}', f'{self.model} {other.model}', max(self.year, other.year))\n",
        "    else:\n",
        "      raise TypeError('Error')\n",
        "car1 = Car('Toyota', 'Camry', 2012)\n",
        "car2 = Car('Honda', 'Civic', 2022)\n",
        "print('Car1',repr(car1))\n",
        "print('String of car1',str(car1))\n",
        "result = car1 + car2\n",
        "print('Car1 and Car2',repr(result))"
      ],
      "metadata": {
        "colab": {
          "base_uri": "https://localhost:8080/"
        },
        "id": "LDUxNDKz5rVZ",
        "outputId": "1573c2d8-460a-41ec-ed5b-140a5bff6315"
      },
      "execution_count": null,
      "outputs": [
        {
          "output_type": "stream",
          "name": "stdout",
          "text": [
            "Car1 Car('Toyota', 'Camry', 2012)\n",
            "String of car1 2012 Toyota Camry\n",
            "Car1 and Car2 Car('Toyota and Honda', 'Camry Civic', 2022)\n"
          ]
        }
      ]
    },
    {
      "cell_type": "code",
      "source": [
        "#Is your birth date included in the digits of pi? Where? Feel free to use the code from Chapter 10\n",
        "\n",
        "from mpmath import mp\n",
        "\n",
        "def generate_pi_digits(digits):\n",
        "  mp.dps = digits\n",
        "  pi_string = str(mp.pi).replace('.', '')\n",
        "  return pi_string\n",
        "\n",
        "def check_birthday():\n",
        "\n",
        "  pi_string = generate_pi_digits(1000000)\n",
        "  birthday = input('Enter your birthday, in the form mmddyy: ')\n",
        "  if birthday in pi_string:\n",
        "    print(\"Your birthday appears in the first million digits of pi!\")\n",
        "  else:\n",
        "    print(\"Your birthday does not appear in the first million digits of pi.\")\n",
        "check_birthday()\n"
      ],
      "metadata": {
        "id": "mV5at8WbBjeJ",
        "colab": {
          "base_uri": "https://localhost:8080/"
        },
        "outputId": "54c67e1c-474d-4a55-8482-7e4b0c988388"
      },
      "execution_count": 93,
      "outputs": [
        {
          "output_type": "stream",
          "name": "stdout",
          "text": [
            "Enter your birthday, in the form mmddyy: 031499\n",
            "Your birthday appears in the first million digits of pi!\n"
          ]
        }
      ]
    },
    {
      "cell_type": "code",
      "source": [
        "%%file final_functions.py\n",
        "\n",
        "def min_max_sum(num1, num2, num3):\n",
        "  return min(num1, num2, num3), max(num1, num2, num3), num1 + num2 + num3\n",
        "\n",
        "def min_max_sum_args(*args):\n",
        "  return min(args), max(args), sum(args), sum(args) #The bug will make it fail the test because it is returning the sum twice\n",
        "\n",
        "def check_num(num):\n",
        "  if num > 0:\n",
        "    return \"Positive\"\n",
        "  elif num < 0:\n",
        "    return \"Negative\"\n",
        "  else:\n",
        "    return \"Zero\""
      ],
      "metadata": {
        "colab": {
          "base_uri": "https://localhost:8080/"
        },
        "id": "R6qdhpDtKOPi",
        "outputId": "607f5643-306f-4e2d-a3a3-13fb038393af"
      },
      "execution_count": 131,
      "outputs": [
        {
          "output_type": "stream",
          "name": "stdout",
          "text": [
            "Overwriting final_functions.py\n"
          ]
        }
      ]
    },
    {
      "cell_type": "code",
      "source": [
        "!python final_functions.py\n"
      ],
      "metadata": {
        "id": "eL9TR9y2KPrK"
      },
      "execution_count": 126,
      "outputs": []
    },
    {
      "cell_type": "code",
      "source": [
        "%%file final.py\n",
        "\n",
        "from final_functions import min_max_sum, min_max_sum_args, check_num\n",
        "\n",
        "#Exersizing the min_max_sum function\n",
        "result = min_max_sum(6, 25, -4)\n",
        "print(f'The min is: {result[0]}\\nThe max is: {result[1]}\\nThe sum is: {result[2]}')\n",
        "#Exersizing the min_max_sum_args function\n",
        "result_args = min_max_sum_args(6, 25, -4, 0, 0)\n",
        "print(f'The min max and sum as a tuple {result_varargs}')\n",
        "#Exersizing the check_num function\n",
        "test_num = int(input('Enter a Number: '))\n",
        "results = check_num(test_num)\n",
        "print(f'The number is {results}')"
      ],
      "metadata": {
        "colab": {
          "base_uri": "https://localhost:8080/"
        },
        "id": "nqyc21UjKVo8",
        "outputId": "44ae0109-ab93-43e9-ac87-f8f0a1e1d2a2"
      },
      "execution_count": 128,
      "outputs": [
        {
          "output_type": "stream",
          "name": "stdout",
          "text": [
            "Overwriting final.py\n"
          ]
        }
      ]
    },
    {
      "cell_type": "code",
      "source": [
        "!python final.py"
      ],
      "metadata": {
        "colab": {
          "base_uri": "https://localhost:8080/"
        },
        "id": "_io7kyETOcK8",
        "outputId": "812c3c58-8d21-45e8-d4dc-d082736ad95d"
      },
      "execution_count": 124,
      "outputs": [
        {
          "output_type": "stream",
          "name": "stdout",
          "text": [
            "The min is: -4\n",
            "The max is: 25\n",
            "The sum is: 27\n",
            "The min max and sum as a tuple (-4, 25, 27)\n",
            "Enter a Number: 20\n",
            "The number is Positive\n"
          ]
        }
      ]
    },
    {
      "cell_type": "code",
      "source": [
        "%%file test_final.py\n",
        "\n",
        "from final_functions import min_max_sum, min_max_sum_args, check_num\n",
        "\n",
        "def test_min_max_sum():\n",
        "  result = min_max_sum(6, 25, -4)\n",
        "  assert result == (-4, 25, 27)\n",
        "\n",
        "def test_check_num():\n",
        "  assert check_num(5) == 'Positive'\n",
        "  assert check_num(-5) == 'Negative'\n",
        "  assert check_num(0) == 'Zero'\n",
        "\n",
        "def test_min_max_sum_args():\n",
        "  result = min_max_sum_args(6, 25, -4, 0, 0)\n",
        "  assert result == (-4, 25, 27)"
      ],
      "metadata": {
        "colab": {
          "base_uri": "https://localhost:8080/"
        },
        "id": "MTf5j-V_KdTE",
        "outputId": "7758337c-c1a1-40d9-c9c5-81de96b3208f"
      },
      "execution_count": 129,
      "outputs": [
        {
          "output_type": "stream",
          "name": "stdout",
          "text": [
            "Overwriting test_final.py\n"
          ]
        }
      ]
    },
    {
      "cell_type": "code",
      "source": [
        "!pytest -s test_final.py"
      ],
      "metadata": {
        "colab": {
          "base_uri": "https://localhost:8080/"
        },
        "id": "YDxHbTdWPWw1",
        "outputId": "0cbeef99-fe56-4580-be4a-2c2c4bb4583b"
      },
      "execution_count": 132,
      "outputs": [
        {
          "output_type": "stream",
          "name": "stdout",
          "text": [
            "\u001b[1m======================================= test session starts ========================================\u001b[0m\n",
            "platform linux -- Python 3.10.12, pytest-7.4.3, pluggy-1.3.0\n",
            "rootdir: /content\n",
            "plugins: anyio-3.7.1\n",
            "\u001b[1mcollecting ... \u001b[0m\u001b[1m\rcollected 3 items                                                                                  \u001b[0m\n",
            "\n",
            "test_final.py \u001b[32m.\u001b[0m\u001b[32m.\u001b[0m\u001b[31mF\u001b[0m\n",
            "\n",
            "============================================= FAILURES =============================================\n",
            "\u001b[31m\u001b[1m______________________________________ test_min_max_sum_args _______________________________________\u001b[0m\n",
            "\n",
            "    \u001b[94mdef\u001b[39;49;00m \u001b[92mtest_min_max_sum_args\u001b[39;49;00m():\u001b[90m\u001b[39;49;00m\n",
            "      result = min_max_sum_args(\u001b[94m6\u001b[39;49;00m, \u001b[94m25\u001b[39;49;00m, -\u001b[94m4\u001b[39;49;00m, \u001b[94m0\u001b[39;49;00m, \u001b[94m0\u001b[39;49;00m)\u001b[90m\u001b[39;49;00m\n",
            ">     \u001b[94massert\u001b[39;49;00m result == (-\u001b[94m4\u001b[39;49;00m, \u001b[94m25\u001b[39;49;00m, \u001b[94m27\u001b[39;49;00m)\u001b[90m\u001b[39;49;00m\n",
            "\u001b[1m\u001b[31mE     assert (-4, 25, 27, 27) == (-4, 25, 27)\u001b[0m\n",
            "\u001b[1m\u001b[31mE       Left contains one more item: 27\u001b[0m\n",
            "\u001b[1m\u001b[31mE       Use -v to get more diff\u001b[0m\n",
            "\n",
            "\u001b[1m\u001b[31mtest_final.py\u001b[0m:15: AssertionError\n",
            "\u001b[36m\u001b[1m===================================== short test summary info ======================================\u001b[0m\n",
            "\u001b[31mFAILED\u001b[0m test_final.py::\u001b[1mtest_min_max_sum_args\u001b[0m - assert (-4, 25, 27, 27) == (-4, 25, 27)\n",
            "\u001b[31m=================================== \u001b[31m\u001b[1m1 failed\u001b[0m, \u001b[32m2 passed\u001b[0m\u001b[31m in 0.13s\u001b[0m\u001b[31m ====================================\u001b[0m\n"
          ]
        }
      ]
    }
  ]
}