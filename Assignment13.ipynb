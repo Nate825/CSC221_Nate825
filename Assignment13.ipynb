{
  "nbformat": 4,
  "nbformat_minor": 0,
  "metadata": {
    "colab": {
      "provenance": [],
      "authorship_tag": "ABX9TyPKDF0mUmF/xvg2BcFjZ4W3",
      "include_colab_link": true
    },
    "kernelspec": {
      "name": "python3",
      "display_name": "Python 3"
    },
    "language_info": {
      "name": "python"
    }
  },
  "cells": [
    {
      "cell_type": "markdown",
      "metadata": {
        "id": "view-in-github",
        "colab_type": "text"
      },
      "source": [
        "<a href=\"https://colab.research.google.com/github/Nate825/CSC221_Nate825/blob/main/Assignment13.ipynb\" target=\"_parent\"><img src=\"https://colab.research.google.com/assets/colab-badge.svg\" alt=\"Open In Colab\"/></a>"
      ]
    },
    {
      "cell_type": "code",
      "source": [
        "%%file data.txt\n",
        "\"I have learned a lot of useful things in python. For example, I have learned how to make mutiple simple games to play in lab,\"\n",
        "\"as well as have learned basically all concepts in the book we use for class. For example Classes, functions, User Input and while loops,\"\n",
        "\"Dictionaries, if Statements, lists, and simple data types.\""
      ],
      "metadata": {
        "colab": {
          "base_uri": "https://localhost:8080/"
        },
        "id": "xNDgAawUs9Pz",
        "outputId": "63c6efcc-7cc5-445f-f850-943942568fec"
      },
      "execution_count": null,
      "outputs": [
        {
          "output_type": "stream",
          "name": "stdout",
          "text": [
            "Writing data.txt\n"
          ]
        }
      ]
    },
    {
      "cell_type": "code",
      "execution_count": null,
      "metadata": {
        "id": "XQjE0riCgrQM",
        "colab": {
          "base_uri": "https://localhost:8080/"
        },
        "outputId": "1d297b3d-768b-4165-85a3-db3a15af7c98"
      },
      "outputs": [
        {
          "output_type": "stream",
          "name": "stdout",
          "text": [
            "\"I have learned a lot of useful things in python. For example, I have learned how to make mutiple simple games to play in lab,\"\n",
            "\"as well as have learned basically all concepts in the book we use for class. For example Classes, functions, User Input and while loops,\"\n",
            "\"Dictionaries, if Statements, lists, and simple data types.\"\n"
          ]
        }
      ],
      "source": [
        "file1 = open('data.txt', 'r')\n",
        "contents = file1.read()\n",
        "contents = contents.rstrip()\n",
        "print(contents)"
      ]
    },
    {
      "cell_type": "code",
      "source": [
        "file1 = open('data.txt', 'r')\n",
        "contents = file1.read()\n",
        "contents = contents.rstrip()\n",
        "lines = contents.splitlines()\n",
        "for line in lines:\n",
        "  print(line)\n"
      ],
      "metadata": {
        "colab": {
          "base_uri": "https://localhost:8080/"
        },
        "id": "wx_b-mb3uM3P",
        "outputId": "cb1e06c6-8bd2-4b9b-d9e8-e730ecd8e230"
      },
      "execution_count": null,
      "outputs": [
        {
          "output_type": "stream",
          "name": "stdout",
          "text": [
            "\"I have learned a lot of useful things in python. For example, I have learned how to make mutiple simple games to play in lab,\"\n",
            "\"as well as have learned basically all concepts in the book we use for class. For example Classes, functions, User Input and while loops,\"\n",
            "\"Dictionaries, if Statements, lists, and simple data types.\"\n"
          ]
        }
      ]
    },
    {
      "cell_type": "code",
      "source": [
        "%%file guest.txt\n",
        "\n",
        "''"
      ],
      "metadata": {
        "id": "QTxfGwpwyPwl"
      },
      "execution_count": null,
      "outputs": []
    },
    {
      "cell_type": "code",
      "source": [
        "file2 = open('guest.txt', 'w')\n",
        "text = input('Please enter your name: ')\n",
        "file2.write(text)\n",
        "file2.close()"
      ],
      "metadata": {
        "colab": {
          "base_uri": "https://localhost:8080/"
        },
        "id": "wgdXmjYXv6KA",
        "outputId": "b3db0207-b5a6-4377-bf22-5d73649d6c78"
      },
      "execution_count": null,
      "outputs": [
        {
          "name": "stdout",
          "output_type": "stream",
          "text": [
            "Please enter your name: nate\n"
          ]
        }
      ]
    },
    {
      "cell_type": "code",
      "source": [],
      "metadata": {
        "id": "gFNvT4O33Fv0"
      },
      "execution_count": null,
      "outputs": []
    }
  ]
}