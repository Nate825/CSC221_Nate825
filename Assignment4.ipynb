{
  "nbformat": 4,
  "nbformat_minor": 0,
  "metadata": {
    "colab": {
      "provenance": [],
      "authorship_tag": "ABX9TyM9CR9f5PFGbQC1biJfBRVX",
      "include_colab_link": true
    },
    "kernelspec": {
      "name": "python3",
      "display_name": "Python 3"
    },
    "language_info": {
      "name": "python"
    }
  },
  "cells": [
    {
      "cell_type": "markdown",
      "metadata": {
        "id": "view-in-github",
        "colab_type": "text"
      },
      "source": [
        "<a href=\"https://colab.research.google.com/github/Nate825/CSC221_Nate825/blob/main/Assignment4.ipynb\" target=\"_parent\"><img src=\"https://colab.research.google.com/assets/colab-badge.svg\" alt=\"Open In Colab\"/></a>"
      ]
    },
    {
      "cell_type": "code",
      "execution_count": 3,
      "metadata": {
        "colab": {
          "base_uri": "https://localhost:8080/"
        },
        "id": "I3Kwba7w-NJq",
        "outputId": "41d47cb8-20c0-4d5e-b830-9d2cd653d34e"
      },
      "outputs": [
        {
          "output_type": "stream",
          "name": "stdout",
          "text": [
            "Nate\n",
            "John\n",
            "Spencer\n",
            "Mike\n"
          ]
        }
      ],
      "source": [
        "names = ['Nate', 'John', 'Spencer', 'Mike']\n",
        "print(names[0])\n",
        "print(names[1])\n",
        "print(names[2])\n",
        "print(names[3])"
      ]
    },
    {
      "cell_type": "code",
      "source": [
        "names = ['Nate', 'John', 'Spencer', 'Mike']\n",
        "message = f'how are you today {names[0].title()}'\n",
        "print(message)\n",
        "message = f'how are you today {names[1].title()}'\n",
        "print(message)\n",
        "message = f'how are you today {names[2].title()}'\n",
        "print(message)\n",
        "message = f'how are you today {names[3].title()}'\n",
        "print(message)\n"
      ],
      "metadata": {
        "colab": {
          "base_uri": "https://localhost:8080/"
        },
        "id": "A3e96kGpCzhJ",
        "outputId": "b4969755-3a52-4a41-991d-430fe4cbec04"
      },
      "execution_count": 13,
      "outputs": [
        {
          "output_type": "stream",
          "name": "stdout",
          "text": [
            "how are you today Nate\n",
            "how are you today John\n",
            "how are you today Spencer\n",
            "how are you today Mike\n"
          ]
        }
      ]
    },
    {
      "cell_type": "code",
      "source": [
        "transport = ['bike', 'car', 'airplane', 'bus']\n",
        "message = f'I love going mountain {transport[0]}ing with my friends'\n",
        "print(message)\n",
        "message = f'I take my {transport[1]} to class everyday'\n",
        "print(message)\n",
        "message = f'I used to take the {transport[3]} to school everyday'\n",
        "print(message)\n",
        "message = f'I would love to ride in a {transport[2]} one day'\n",
        "print(message)"
      ],
      "metadata": {
        "colab": {
          "base_uri": "https://localhost:8080/"
        },
        "id": "CZkH1OGTFtGp",
        "outputId": "efee51de-91eb-4a66-98b6-1b3237292af7"
      },
      "execution_count": 17,
      "outputs": [
        {
          "output_type": "stream",
          "name": "stdout",
          "text": [
            "I love going mountain bikeing with my friends\n",
            "I take my car to class everyday\n",
            "I used to take the bus to school everyday\n",
            "I would love to ride in a airplane one day\n"
          ]
        }
      ]
    },
    {
      "cell_type": "code",
      "source": [
        "glist = ['Messi', 'Ronaldo', 'Neymar', 'Pedro']\n",
        "message = f'{glist[0]} You are invited to my dinner.'\n",
        "print(message)\n",
        "message = f'{glist[1]} You are invited to my dinner.'\n",
        "print(message)\n",
        "message = f'{glist[2]} You are invited to my dinner.'\n",
        "print(message)\n",
        "message = f'{glist[3]} You are invited to my dinner.'\n",
        "print(message)"
      ],
      "metadata": {
        "colab": {
          "base_uri": "https://localhost:8080/"
        },
        "id": "n903IxfwG8M4",
        "outputId": "25ee6b13-addc-4b16-b078-fd6793be52c0"
      },
      "execution_count": 22,
      "outputs": [
        {
          "output_type": "stream",
          "name": "stdout",
          "text": [
            "Messi You are invited to my dinner.\n",
            "Ronaldo You are invited to my dinner.\n",
            "Neymar You are invited to my dinner.\n",
            "Pedro You are invited to my dinner.\n"
          ]
        }
      ]
    },
    {
      "cell_type": "code",
      "source": [
        "glist = ['Messi', 'Ronaldo', 'Neymar', 'Pedro']\n",
        "message = f'{glist[0]} You are invited to my dinner.'\n",
        "print(message)\n",
        "message = f'{glist[1]} You are invited to my dinner.'\n",
        "print(message)\n",
        "message = f'{glist[2]} You are invited to my dinner.'\n",
        "print(message)\n",
        "message = f'{glist[3]} Could not make it to dinner.'\n",
        "print(message)\n",
        "del glist[3]\n",
        "print(glist)\n",
        "glist.append('Sancho')\n",
        "print(glist)\n",
        "message = f'{glist[0]} You are invited to my dinner.'\n",
        "print(message)\n",
        "message = f'{glist[1]} You are invited to my dinner.'\n",
        "print(message)\n",
        "message = f'{glist[2]} You are invited to my dinner.'\n",
        "print(message)\n",
        "message = f'{glist[3]} You are invited to my dinner.'\n",
        "print(message)"
      ],
      "metadata": {
        "colab": {
          "base_uri": "https://localhost:8080/"
        },
        "id": "CIFjzsaKLDpQ",
        "outputId": "5dadb619-8ea0-4e07-c24b-1255a00f4508"
      },
      "execution_count": 25,
      "outputs": [
        {
          "output_type": "stream",
          "name": "stdout",
          "text": [
            "Messi You are invited to my dinner.\n",
            "Ronaldo You are invited to my dinner.\n",
            "Neymar You are invited to my dinner.\n",
            "Pedro Could not make it to dinner.\n",
            "['Messi', 'Ronaldo', 'Neymar']\n",
            "['Messi', 'Ronaldo', 'Neymar', 'Sancho']\n",
            "Messi You are invited to my dinner.\n",
            "Ronaldo You are invited to my dinner.\n",
            "Neymar You are invited to my dinner.\n",
            "Sancho You are invited to my dinner.\n"
          ]
        }
      ]
    },
    {
      "cell_type": "code",
      "source": [
        "glist = ['Messi', 'Ronaldo', 'Neymar', 'Sancho']\n",
        "message = f'{glist[0]} You are invited to my dinner.'\n",
        "print(message)\n",
        "message = f'{glist[1]} You are invited to my dinner.'\n",
        "print(message)\n",
        "message = f'{glist[2]} You are invited to my dinner.'\n",
        "print(message)\n",
        "message = f'{glist[3]} You are invited to my dinner.'\n",
        "print(message)\n",
        "print('We found a bigger table so their are 3 more invites')\n",
        "glist.insert(0, 'Ronaldino')\n",
        "glist.insert(3, 'Zlatan')\n",
        "glist.append('De Gea')\n",
        "print(glist)\n",
        "message = f'{glist[0]} You are invited to my dinner.'\n",
        "print(message)\n",
        "message = f'{glist[1]} You are invited to my dinner.'\n",
        "print(message)\n",
        "message = f'{glist[2]} You are invited to my dinner.'\n",
        "print(message)\n",
        "message = f'{glist[3]} You are invited to my dinner.'\n",
        "print(message)\n",
        "message = f'{glist[4]} You are invited to my dinner.'\n",
        "print(message)\n",
        "message = f'{glist[5]} You are invited to my dinner.'\n",
        "print(message)\n",
        "message = f'{glist[6]} You are invited to my dinner.'\n",
        "print(message)"
      ],
      "metadata": {
        "colab": {
          "base_uri": "https://localhost:8080/"
        },
        "id": "9zngzLNENvOn",
        "outputId": "8985c309-2a99-4397-a337-fcbb34a37aa7"
      },
      "execution_count": 37,
      "outputs": [
        {
          "output_type": "stream",
          "name": "stdout",
          "text": [
            "Messi You are invited to my dinner.\n",
            "Ronaldo You are invited to my dinner.\n",
            "Neymar You are invited to my dinner.\n",
            "Sancho You are invited to my dinner.\n",
            "We found a bigger table so their are 3 more invites\n",
            "['Ronaldino', 'Messi', 'Ronaldo', 'Zlatan', 'Neymar', 'Sancho', 'De Gea']\n",
            "Ronaldino You are invited to my dinner.\n",
            "Messi You are invited to my dinner.\n",
            "Ronaldo You are invited to my dinner.\n",
            "Zlatan You are invited to my dinner.\n",
            "Neymar You are invited to my dinner.\n",
            "Sancho You are invited to my dinner.\n",
            "De Gea You are invited to my dinner.\n"
          ]
        }
      ]
    },
    {
      "cell_type": "code",
      "source": [
        "glist = ['Ronaldino', 'Zlatan', 'Ronaldo', 'Messi', 'Neymar', 'Sancho', 'De Gea']\n",
        "message = f'{glist[0]} You are invited to my dinner.'\n",
        "print(message)\n",
        "message = f'{glist[1]} You are invited to my dinner.'\n",
        "print(message)\n",
        "message = f'{glist[2]} You are invited to my dinner.'\n",
        "print(message)\n",
        "message = f'{glist[3]} You are invited to my dinner.'\n",
        "print(message)\n",
        "message = f'{glist[4]} You are invited to my dinner.'\n",
        "print(message)\n",
        "message = f'{glist[5]} You are invited to my dinner.'\n",
        "print(message)\n",
        "message = f'{glist[6]} You are invited to my dinner.'\n",
        "print(message)\n",
        "print('we have to cut down the invites to two people')\n",
        "popped_glist = glist.pop()\n",
        "print(glist)\n",
        "print(popped_glist, \"We are so sorry to inform you that we have to revoke you're invite\")\n",
        "popped_glist = glist.pop()\n",
        "print(popped_glist, \"We are so sorry to inform you that we have to revoke you're invite\")\n",
        "popped_glist = glist.pop()\n",
        "print(popped_glist, \"We are so sorry to inform you that we have to revoke you're invite\")\n",
        "popped_glist = glist.pop()\n",
        "print(popped_glist, \"We are so sorry to inform you that we have to revoke you're invite\")\n",
        "popped_glist = glist.pop()\n",
        "print(popped_glist, \"We are so sorry to inform you that we have to revoke you're invite\")\n",
        "message = f'{glist[0]} You are still on the guest list love to see you there'\n",
        "print(message)\n",
        "message = f'{glist[1]} You are still on the guest list love to see you there'\n",
        "print(message)\n",
        "del glist[0]\n",
        "del glist[0]\n",
        "print(glist)"
      ],
      "metadata": {
        "colab": {
          "base_uri": "https://localhost:8080/"
        },
        "id": "CT3PPbZwN7b-",
        "outputId": "c9d0dc84-fcbc-4bd9-c90d-0e288ae896ea"
      },
      "execution_count": 61,
      "outputs": [
        {
          "output_type": "stream",
          "name": "stdout",
          "text": [
            "Ronaldino You are invited to my dinner.\n",
            "Zlatan You are invited to my dinner.\n",
            "Ronaldo You are invited to my dinner.\n",
            "Messi You are invited to my dinner.\n",
            "Neymar You are invited to my dinner.\n",
            "Sancho You are invited to my dinner.\n",
            "De Gea You are invited to my dinner.\n",
            "we have to cut down the invites to two people\n",
            "['Ronaldino', 'Zlatan', 'Ronaldo', 'Messi', 'Neymar', 'Sancho']\n",
            "De Gea We are so sorry to inform you that we have to revoke you're invite\n",
            "Sancho We are so sorry to inform you that we have to revoke you're invite\n",
            "Neymar We are so sorry to inform you that we have to revoke you're invite\n",
            "Messi We are so sorry to inform you that we have to revoke you're invite\n",
            "Ronaldo We are so sorry to inform you that we have to revoke you're invite\n",
            "Ronaldino You are still on the guest list love to see you there\n",
            "Zlatan You are still on the guest list love to see you there\n",
            "[]\n"
          ]
        }
      ]
    },
    {
      "cell_type": "code",
      "source": [
        "vacation = ['Hawaii', 'Calafornia', 'Japan', 'France', 'Italy']\n",
        "print(vacation)\n",
        "print(sorted(vacation))\n",
        "print(vacation)\n",
        "vacation.reverse()\n",
        "print(vacation)\n",
        "vacation.reverse()\n",
        "print(vacation)\n",
        "vacation.sort\n",
        "print(vacation)\n",
        "vacation.sort(reverse = True)\n",
        "print(vacation)\n"
      ],
      "metadata": {
        "colab": {
          "base_uri": "https://localhost:8080/"
        },
        "id": "1y0S82G6ZJN0",
        "outputId": "b7a036c7-8251-41ba-9f25-5e31a16dae74"
      },
      "execution_count": 4,
      "outputs": [
        {
          "output_type": "stream",
          "name": "stdout",
          "text": [
            "['Hawaii', 'Calafornia', 'Japan', 'France', 'Italy']\n",
            "['Calafornia', 'France', 'Hawaii', 'Italy', 'Japan']\n",
            "['Hawaii', 'Calafornia', 'Japan', 'France', 'Italy']\n",
            "['Italy', 'France', 'Japan', 'Calafornia', 'Hawaii']\n",
            "['Hawaii', 'Calafornia', 'Japan', 'France', 'Italy']\n",
            "['Hawaii', 'Calafornia', 'Japan', 'France', 'Italy']\n",
            "['Japan', 'Italy', 'Hawaii', 'France', 'Calafornia']\n"
          ]
        }
      ]
    },
    {
      "cell_type": "code",
      "source": [
        "glist = ['Messi', 'Ronaldo', 'Neymar', 'Pedro']\n",
        "message = f'{glist[0]} You are invited to my dinner.'\n",
        "print(message)\n",
        "message = f'{glist[1]} You are invited to my dinner.'\n",
        "print(message)\n",
        "message = f'{glist[2]} You are invited to my dinner.'\n",
        "print(message)\n",
        "message = f'{glist[3]} You are invited to my dinner.'\n",
        "print(message)\n",
        "len(glist)"
      ],
      "metadata": {
        "colab": {
          "base_uri": "https://localhost:8080/"
        },
        "id": "bySB6jKbNtdK",
        "outputId": "d8a30369-66d9-433a-89d9-b99aeb621240"
      },
      "execution_count": 5,
      "outputs": [
        {
          "output_type": "stream",
          "name": "stdout",
          "text": [
            "Messi You are invited to my dinner.\n",
            "Ronaldo You are invited to my dinner.\n",
            "Neymar You are invited to my dinner.\n",
            "Pedro You are invited to my dinner.\n"
          ]
        },
        {
          "output_type": "execute_result",
          "data": {
            "text/plain": [
              "4"
            ]
          },
          "metadata": {},
          "execution_count": 5
        }
      ]
    },
    {
      "cell_type": "code",
      "source": [
        "countries = ['USA', 'Italy', 'Serbia', 'Russia']\n",
        "countries = f'I would love to go to {countries[1]}'\n",
        "print(countries)\n",
        "countries = ['USA', 'Italy', 'Serbia', 'Russia']\n",
        "del countries[3]\n",
        "print(sorted(countries))\n",
        "countries.sort(reverse = True)\n",
        "print(countries)\n",
        "countries.reverse()\n",
        "len(countries)\n",
        "popped_countries = countries.pop()\n",
        "print(popped_countries)\n",
        "print(countries)\n",
        "countries.insert(0, 'Russia')\n",
        "countries.insert(0, 'USA')\n",
        "print(countries)\n",
        "countries.append('France')\n",
        "print(countries)\n",
        "print(countries[0])\n"
      ],
      "metadata": {
        "colab": {
          "base_uri": "https://localhost:8080/"
        },
        "id": "yJMW_XdaTXLR",
        "outputId": "096bdfb8-0cc8-4d6e-a5db-726031286b4a"
      },
      "execution_count": 17,
      "outputs": [
        {
          "output_type": "stream",
          "name": "stdout",
          "text": [
            "I would love to go to Italy\n",
            "['Italy', 'Serbia', 'USA']\n",
            "['USA', 'Serbia', 'Italy']\n",
            "USA\n",
            "['Italy', 'Serbia']\n",
            "['USA', 'Russia', 'Italy', 'Serbia']\n",
            "['USA', 'Russia', 'Italy', 'Serbia', 'France']\n",
            "USA\n"
          ]
        }
      ]
    },
    {
      "cell_type": "code",
      "source": [
        "for num in range(60, 86):\n",
        "    if num % 7 == 0:\n",
        "        cube = num ** 3\n",
        "        print(f'{num} {cube}')"
      ],
      "metadata": {
        "colab": {
          "base_uri": "https://localhost:8080/"
        },
        "id": "BUREnwjum0GD",
        "outputId": "0067a59a-9791-465f-b900-f0458e753e60"
      },
      "execution_count": 22,
      "outputs": [
        {
          "output_type": "stream",
          "name": "stdout",
          "text": [
            "63 250047\n",
            "70 343000\n",
            "77 456533\n",
            "84 592704\n"
          ]
        }
      ]
    },
    {
      "cell_type": "code",
      "source": [
        "nums = [40, 50, 120, -8, 6]\n",
        "\n",
        "for x in nums:\n",
        "    y = 7.4 * x + 51\n",
        "    print(f\"x = {x}, y = {y}\")\n",
        "\n"
      ],
      "metadata": {
        "colab": {
          "base_uri": "https://localhost:8080/"
        },
        "id": "aygrVPOapSY2",
        "outputId": "93e68ecd-904d-4943-aec3-a3ceeeaa7020"
      },
      "execution_count": 25,
      "outputs": [
        {
          "output_type": "stream",
          "name": "stdout",
          "text": [
            "x = 40, y = 347.0\n",
            "x = 50, y = 421.0\n",
            "x = 120, y = 939.0\n",
            "x = -8, y = -8.200000000000003\n",
            "x = 6, y = 95.4\n"
          ]
        }
      ]
    }
  ]
}