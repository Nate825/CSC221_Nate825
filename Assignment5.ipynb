{
  "nbformat": 4,
  "nbformat_minor": 0,
  "metadata": {
    "colab": {
      "provenance": [],
      "authorship_tag": "ABX9TyMihn2I5KTHl8rIQx3zARW4",
      "include_colab_link": true
    },
    "kernelspec": {
      "name": "python3",
      "display_name": "Python 3"
    },
    "language_info": {
      "name": "python"
    }
  },
  "cells": [
    {
      "cell_type": "markdown",
      "metadata": {
        "id": "view-in-github",
        "colab_type": "text"
      },
      "source": [
        "<a href=\"https://colab.research.google.com/github/Nate825/CSC221_Nate825/blob/main/Assignment5.ipynb\" target=\"_parent\"><img src=\"https://colab.research.google.com/assets/colab-badge.svg\" alt=\"Open In Colab\"/></a>"
      ]
    },
    {
      "cell_type": "code",
      "execution_count": 4,
      "metadata": {
        "colab": {
          "base_uri": "https://localhost:8080/"
        },
        "id": "m-dqatY8H70r",
        "outputId": "f61d4520-21e3-4ca8-c8a5-4f0cab711284"
      },
      "outputs": [
        {
          "output_type": "stream",
          "name": "stdout",
          "text": [
            " I like Plain pizza\n",
            " I like Bufflo pizza\n",
            " I like Cbr pizza\n",
            "Pizza is one of my favorite foods\n"
          ]
        }
      ],
      "source": [
        "#Exercise 1-2 because 2 is the same as 1\n",
        "pizza = ['plain', 'bufflo', 'cbr']\n",
        "for pizzas in pizza:\n",
        "    print(f' I like {pizzas.title()} pizza')\n",
        "print('Pizza is one of my favorite foods')"
      ]
    },
    {
      "cell_type": "code",
      "source": [
        "for value in range (1, 21):\n",
        "  print(value)"
      ],
      "metadata": {
        "colab": {
          "base_uri": "https://localhost:8080/"
        },
        "id": "bu3kMcTqM24g",
        "outputId": "2a0a9ada-a234-4285-b1af-da98bfebc711"
      },
      "execution_count": 5,
      "outputs": [
        {
          "output_type": "stream",
          "name": "stdout",
          "text": [
            "1\n",
            "2\n",
            "3\n",
            "4\n",
            "5\n",
            "6\n",
            "7\n",
            "8\n",
            "9\n",
            "10\n",
            "11\n",
            "12\n",
            "13\n",
            "14\n",
            "15\n",
            "16\n",
            "17\n",
            "18\n",
            "19\n",
            "20\n"
          ]
        }
      ]
    },
    {
      "cell_type": "code",
      "source": [
        "for value in range(1, 1000001):\n",
        "  print(value)"
      ],
      "metadata": {
        "id": "H-EPiOGO0Wtc"
      },
      "execution_count": null,
      "outputs": []
    },
    {
      "cell_type": "code",
      "source": [
        "digits = list(range(1, 1000001))\n",
        "\n",
        "print(min(digits))\n",
        "print(max(digits))\n",
        "print(sum(digits))"
      ],
      "metadata": {
        "colab": {
          "base_uri": "https://localhost:8080/"
        },
        "id": "a5nQpBVNb8RL",
        "outputId": "42ca85e0-eee0-4619-a567-b2d6f37df0f0"
      },
      "execution_count": 3,
      "outputs": [
        {
          "output_type": "stream",
          "name": "stdout",
          "text": [
            "1\n",
            "1000000\n",
            "500000500000\n"
          ]
        }
      ]
    },
    {
      "cell_type": "code",
      "source": [
        "#same exersize as 4-7 because youre just adding a value to a range function\n",
        "for count in range(1, 21, 2):\n",
        "  print(count)"
      ],
      "metadata": {
        "id": "iBnqH7v402fK",
        "outputId": "6417ba01-d633-47df-f1d0-33212b562abb",
        "colab": {
          "base_uri": "https://localhost:8080/"
        }
      },
      "execution_count": 46,
      "outputs": [
        {
          "output_type": "stream",
          "name": "stdout",
          "text": [
            "1\n",
            "3\n",
            "5\n",
            "7\n",
            "9\n",
            "11\n",
            "13\n",
            "15\n",
            "17\n",
            "19\n"
          ]
        }
      ]
    },
    {
      "cell_type": "code",
      "source": [
        "#same as exersize 4-9\n",
        "cubes = [value**3 for value in range(1, 11)]\n",
        "print(cubes)"
      ],
      "metadata": {
        "id": "uRPjwL5R28rH",
        "outputId": "7a5a29ba-9c79-4308-81f1-023f3a56147d",
        "colab": {
          "base_uri": "https://localhost:8080/"
        }
      },
      "execution_count": 1,
      "outputs": [
        {
          "output_type": "stream",
          "name": "stdout",
          "text": [
            "[1, 8, 27, 64, 125, 216, 343, 512, 729, 1000]\n"
          ]
        }
      ]
    },
    {
      "cell_type": "code",
      "source": [
        "cubes = [value**3 for value in range(1, 11)]\n",
        "print(cubes)\n",
        "print('the first 3 items in the list are')\n",
        "print(cubes[0:3])\n",
        "print('the 3 items in the middle of the list are')\n",
        "print(cubes[4:7])\n",
        "print('the last 3 items in the list are')\n",
        "print(cubes[7:10])"
      ],
      "metadata": {
        "id": "PWTBHvvv3e6G",
        "outputId": "08145776-fc2e-4452-b84a-e7abb5230ef1",
        "colab": {
          "base_uri": "https://localhost:8080/"
        }
      },
      "execution_count": 4,
      "outputs": [
        {
          "output_type": "stream",
          "name": "stdout",
          "text": [
            "[1, 8, 27, 64, 125, 216, 343, 512, 729, 1000]\n",
            "the first 3 items in the list are\n",
            "[1, 8, 27]\n",
            "the 3 items in the middle of the list are\n",
            "[125, 216, 343]\n",
            "the last 3 items in the list are\n",
            "[512, 729, 1000]\n"
          ]
        }
      ]
    },
    {
      "cell_type": "code",
      "source": [
        "#4-12 is the same as this just more redundate loops\n",
        "pizza = ['plain', 'bufflo', 'cbr', 'mushroom']\n",
        "for pizzas in pizza:\n",
        "    print(f' I like {pizzas.title()} pizza')\n",
        "print('Pizza is one of my favorite foods')\n",
        "fav_pizza = ['Marg']\n",
        "print('my favorite pizzas are')\n",
        "for pizza in pizza:\n",
        "    print(pizza)\n",
        "print('my friends favorite pizzas are')\n",
        "for fav_pizza in fav_pizza:\n",
        "  print(fav_pizza)"
      ],
      "metadata": {
        "id": "ajw7Uf69RhyO",
        "outputId": "126eccda-90ff-4735-d868-ae99409df0a8",
        "colab": {
          "base_uri": "https://localhost:8080/"
        }
      },
      "execution_count": 11,
      "outputs": [
        {
          "output_type": "stream",
          "name": "stdout",
          "text": [
            " I like Plain pizza\n",
            " I like Bufflo pizza\n",
            " I like Cbr pizza\n",
            " I like Mushroom pizza\n",
            "Pizza is one of my favorite foods\n",
            "my favorite pizzas are\n",
            "plain\n",
            "bufflo\n",
            "cbr\n",
            "mushroom\n",
            "my friends favorite pizzas are\n",
            "Marg\n"
          ]
        }
      ]
    },
    {
      "cell_type": "code",
      "source": [
        "buffet = ('steak', 'pasta', 'salad', 'pulled_pork', 'rice')\n",
        "for buffet in buffet:\n",
        "  print(buffet)\n",
        "buffet = ('steak', 'pasta', 'salad', 'fish', 'ribs')\n",
        "for buffet in buffet:\n",
        "  print(buffet)"
      ],
      "metadata": {
        "id": "3svtjGU4WYM6",
        "outputId": "fbf93bc9-3d10-4a4d-d194-8c30587c7b0c",
        "colab": {
          "base_uri": "https://localhost:8080/"
        }
      },
      "execution_count": 21,
      "outputs": [
        {
          "output_type": "stream",
          "name": "stdout",
          "text": [
            "steak\n",
            "pasta\n",
            "salad\n",
            "pulled_pork\n",
            "rice\n",
            "steak\n",
            "pasta\n",
            "salad\n",
            "fish\n",
            "ribs\n"
          ]
        }
      ]
    },
    {
      "cell_type": "code",
      "source": [
        "cubes = [value ** 3 for value in range(1, 11)]\n",
        "print(cubes)\n",
        "\n",
        "print('the first 3 items in the list are:')\n",
        "print(cubes[0:3])\n",
        "\n",
        "print('The 3 items in the middle of the list are:')\n",
        "print(cubes[4:7])\n",
        "\n",
        "print('The last 3 items in the list are:')\n",
        "print(cubes[7:10])"
      ],
      "metadata": {
        "id": "PY5gC8utasiA",
        "outputId": "9064aac3-8436-4d83-adc8-a48c18b45e5d",
        "colab": {
          "base_uri": "https://localhost:8080/"
        }
      },
      "execution_count": 22,
      "outputs": [
        {
          "output_type": "stream",
          "name": "stdout",
          "text": [
            "[1, 8, 27, 64, 125, 216, 343, 512, 729, 1000]\n",
            "the first 3 items in the list are:\n",
            "[1, 8, 27]\n",
            "The 3 items in the middle of the list are:\n",
            "[125, 216, 343]\n",
            "The last 3 items in the list are:\n",
            "[512, 729, 1000]\n"
          ]
        }
      ]
    },
    {
      "cell_type": "code",
      "source": [
        "from re import X\n",
        "def factorial(n):\n",
        "  if n < 0:\n",
        "    return \"Factorial is not defined for negative numbers\"\n",
        "  elif n == 0:\n",
        "    return 1\n",
        "  else:\n",
        "    num_list = [x for x in range(1, n + 1)]\n",
        "\n",
        "    if 4 in num_list:\n",
        "      num_list.remove(4)\n",
        "    if 13 in num_list:\n",
        "      num_list.remove(13)\n",
        "    if 22 in num_list:\n",
        "      num_list.remove(22)\n",
        "\n",
        "    product = 1\n",
        "    for x in num_list:\n",
        "      product *= x\n",
        "    return product\n",
        "print(factorial(5))\n",
        "print(factorial(10))\n",
        "print(factorial(20))\n",
        "print(factorial(50))\n"
      ],
      "metadata": {
        "id": "yYzI9PEUcCNn",
        "outputId": "8a477657-d504-4516-c137-2eed12006ed1",
        "colab": {
          "base_uri": "https://localhost:8080/"
        }
      },
      "execution_count": 26,
      "outputs": [
        {
          "output_type": "stream",
          "name": "stdout",
          "text": [
            "30\n",
            "907200\n",
            "46786577080320000\n",
            "26585745805693512275885146998308364374455980392448000000000000\n"
          ]
        }
      ]
    }
  ]
}