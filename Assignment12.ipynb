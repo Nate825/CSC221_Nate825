{
  "nbformat": 4,
  "nbformat_minor": 0,
  "metadata": {
    "colab": {
      "provenance": [],
      "authorship_tag": "ABX9TyPXYHRx5adhn93b/Ejxoz1T",
      "include_colab_link": true
    },
    "kernelspec": {
      "name": "python3",
      "display_name": "Python 3"
    },
    "language_info": {
      "name": "python"
    }
  },
  "cells": [
    {
      "cell_type": "markdown",
      "metadata": {
        "id": "view-in-github",
        "colab_type": "text"
      },
      "source": [
        "<a href=\"https://colab.research.google.com/github/Nate825/CSC221_Nate825/blob/main/Assignment12.ipynb\" target=\"_parent\"><img src=\"https://colab.research.google.com/assets/colab-badge.svg\" alt=\"Open In Colab\"/></a>"
      ]
    },
    {
      "cell_type": "code",
      "execution_count": 4,
      "metadata": {
        "colab": {
          "base_uri": "https://localhost:8080/"
        },
        "id": "A9MMRw2fAAn1",
        "outputId": "7e0a4939-a1af-4899-87ad-d4bdcc27be75"
      },
      "outputs": [
        {
          "output_type": "stream",
          "name": "stdout",
          "text": [
            "Wallet contents:\n",
            "$1.00\n",
            "$1.00\n",
            "$5.00\n",
            "$10.00\n",
            "$0.25\n",
            "$0.10\n",
            "$0.05\n",
            "$0.01\n",
            "\n",
            "Total money in the wallet: $17.41\n"
          ]
        }
      ],
      "source": [
        "class Money:\n",
        "  def __init__(self, value):\n",
        "    self.value = value\n",
        "\n",
        "  def __str__(self):\n",
        "    return f\"${self.value:.2f}\"\n",
        "\n",
        "class Bill(Money):\n",
        "  pass\n",
        "\n",
        "class Coin(Money):\n",
        "  pass\n",
        "\n",
        "class OneDollar(Bill):\n",
        "  def __init__(self):\n",
        "    super().__init__(1)\n",
        "\n",
        "class FiveDollars(Bill):\n",
        "  def __init__(self):\n",
        "    super().__init__(5)\n",
        "\n",
        "class TenDollars(Bill):\n",
        "  def __init__(self):\n",
        "    super().__init__(10)\n",
        "\n",
        "class Quarter(Coin):\n",
        "  def __init__(self):\n",
        "    super().__init__(0.25)\n",
        "\n",
        "class Dime(Coin):\n",
        "  def __init__(self):\n",
        "    super().__init__(0.10)\n",
        "\n",
        "class Nickel(Coin):\n",
        "  def __init__(self):\n",
        "    super().__init__(0.05)\n",
        "\n",
        "class Penny(Coin):\n",
        "  def __init__(self):\n",
        "    super().__init__(0.01)\n",
        "\n",
        "wallet = [\n",
        "    OneDollar(),\n",
        "    OneDollar(),\n",
        "    FiveDollars(),\n",
        "    TenDollars(),\n",
        "    Quarter(),\n",
        "    Dime(),\n",
        "    Nickel(),\n",
        "    Penny(),\n",
        "]\n",
        "\n",
        "def total_value(wallet):\n",
        "  return sum(money.value for money in wallet)\n",
        "\n",
        "def print_wallet(wallet):\n",
        "  for money in wallet:\n",
        "    print(money)\n",
        "\n",
        "print('Wallet contents:')\n",
        "print_wallet(wallet)\n",
        "total = total_value(wallet)\n",
        "print(f\"\\nTotal money in the wallet: ${total:.2f}\")\n"
      ]
    },
    {
      "cell_type": "code",
      "source": [
        "class Bike:\n",
        "    def __init__(self, make, model, year):\n",
        "      self.make = make\n",
        "      self.model = model\n",
        "      self.year = year\n",
        "\n",
        "    def __str__(self):\n",
        "      return f\"{self.year} {self.make} {self.model}\"\n",
        "\n",
        "class RoadBike(Bike):\n",
        "    def __init__(self, make, model, year, frame):\n",
        "      super().__init__(make, model, year)\n",
        "      self.frame = frame\n",
        "\n",
        "    def drop_handbars(self):\n",
        "      print(\"Using drop handbars increases aerodynamics\")\n",
        "\n",
        "    def __str__(self):\n",
        "      return f\"{self.year} {self.make} {self.model}, Frame: {self.frame}\"\n",
        "\n",
        "class MountainBike(Bike):\n",
        "    def __init__(self, make, model, year, suspension_type):\n",
        "      super().__init__(make, model, year)\n",
        "      self.suspension_type = suspension_type\n",
        "\n",
        "    def shock_absorbers(self):\n",
        "      print(f\"Using {self.suspension_type} shock absorbers for an increase in downhill mountainbiking smoothness\")\n",
        "\n",
        "    def __str__(self):\n",
        "      return f\"{self.year} {self.make} {self.model}, Suspension: {self.suspension_type}\"\n",
        "\n",
        "class ElectricBike(Bike):\n",
        "    def __init__(self, make, model, year, battery_capacity):\n",
        "      super().__init__(make, model, year)\n",
        "      self.battery_capacity = battery_capacity\n",
        "\n",
        "    def charge_battery(self):\n",
        "      print(f\"Battery charging at {self.battery_capacity}.\")\n",
        "\n",
        "    def __str__(self):\n",
        "      return f\"{self.year} {self.make} {self.model}, Battery Capacity: {self.battery_capacity}\"\n",
        "\n",
        "road_bike = RoadBike(\"Giant\", \"Defy\", 2022, \"Carbon Fiber\")\n",
        "mountain_bike = MountainBike(\"Trek\", \"Fuel EX\", 2021, \"Front and Rear\")\n",
        "electric_bike = ElectricBike(\"Rad Power Bikes\", \"RadRover\", 2023, \"48V 14Ah\")\n",
        "\n",
        "print(road_bike)\n",
        "print(mountain_bike)\n",
        "print(electric_bike)"
      ],
      "metadata": {
        "colab": {
          "base_uri": "https://localhost:8080/"
        },
        "id": "7PkC5uKyDvGe",
        "outputId": "8a9d94b3-d1bb-425f-81f7-7d8a925f650d"
      },
      "execution_count": 6,
      "outputs": [
        {
          "output_type": "stream",
          "name": "stdout",
          "text": [
            "2022 Giant Defy, Frame: Carbon Fiber\n",
            "2021 Trek Fuel EX, Suspension: Front and Rear\n",
            "2023 Rad Power Bikes RadRover, Battery Capacity: 48V 14Ah\n"
          ]
        }
      ]
    }
  ]
}