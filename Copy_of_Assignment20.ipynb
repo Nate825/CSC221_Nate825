{
  "nbformat": 4,
  "nbformat_minor": 0,
  "metadata": {
    "colab": {
      "provenance": [],
      "include_colab_link": true
    },
    "kernelspec": {
      "name": "python3",
      "display_name": "Python 3"
    },
    "language_info": {
      "name": "python"
    }
  },
  "cells": [
    {
      "cell_type": "markdown",
      "metadata": {
        "id": "view-in-github",
        "colab_type": "text"
      },
      "source": [
        "<a href=\"https://colab.research.google.com/github/Nate825/CSC221_Nate825/blob/main/Copy_of_Assignment20.ipynb\" target=\"_parent\"><img src=\"https://colab.research.google.com/assets/colab-badge.svg\" alt=\"Open In Colab\"/></a>"
      ]
    },
    {
      "cell_type": "markdown",
      "source": [
        "# Assignment 20\n",
        "## CSC 221\n",
        "- Nate Butkus\n",
        "\n",
        "### Instructions:\n",
        "Fill in each code cell below the question. We are following along in Chapter 4 of Python Distilled."
      ],
      "metadata": {
        "id": "IAOUzGWE1eDx"
      }
    },
    {
      "cell_type": "code",
      "execution_count": null,
      "metadata": {
        "id": "Gnj3su7i5-lx",
        "colab": {
          "base_uri": "https://localhost:8080/"
        },
        "outputId": "309bd336-4393-4753-b50c-cac6cc6b3557"
      },
      "outputs": [
        {
          "output_type": "stream",
          "name": "stdout",
          "text": [
            "19\n",
            "44.5\n",
            "asdfg13\n"
          ]
        }
      ],
      "source": [
        "# 4.1 Essential Concepts\n",
        "\n",
        "# When we write \"a + b\" in Python, the interpreter tries to execute a.__add__(b)\n",
        "\n",
        "# Show that this is true by trying the following:\n",
        "a = 6\n",
        "b = 31.5\n",
        "c = 'asdfg'\n",
        "a1 = a.__add__(13)\n",
        "b1 = b.__add__(13)\n",
        "c1 = c.__add__('13')\n",
        "print(a1)\n",
        "print(b1)\n",
        "print(c1)\n",
        "# What are the types of a, b, and c?\n",
        "#A = int\n",
        "#B= float\n",
        "#C = str\n",
        "\n",
        "# Explain the results\n",
        "'''\n",
        "when you use the function  type() it displays the type of object into the terminal\n",
        "'''"
      ]
    },
    {
      "cell_type": "code",
      "source": [
        "# 4.2 through 4.4 will be covered in the next assignment\n"
      ],
      "metadata": {
        "id": "w2uYd3DO2do6"
      },
      "execution_count": null,
      "outputs": []
    },
    {
      "cell_type": "code",
      "source": [
        "# 4.5 str and repr\n",
        "# How many categpries of printing are shown below for a datetime object?\n",
        "# What in the Pythion code makes each one get callled?\n",
        "\n",
        "from datetime import date\n",
        "d = date(2023, 11, 7)\n",
        "\n",
        "#print(d) = print statement\n",
        "#print(f'{d}') = The defualt for f-strings\n",
        "#print(f'{d!s}') = !s is a conversation flag for __str__\n",
        "#print(f'{d!r}') = !r is a conversation flag for __repr__\n",
        "#print(str(d)) = explicitly calls __str__ using the str function\n",
        "#print(repr(d)) = explicitly calls __repr__ using the repr function\n",
        "#print(d.__str__()) = uses method syntax\n",
        "#print(d.__repr__()) = uses method syntax\n",
        "'''\n",
        "Their are two main catagories which are __str__ and __repr__ but eight in total\n",
        "'''"
      ],
      "metadata": {
        "id": "Aa3ylzmV2wNF"
      },
      "execution_count": null,
      "outputs": []
    },
    {
      "cell_type": "code",
      "source": [
        "# 4.6 First-Class Objects\n",
        "# What is the significance of all objects being \"first-class\" in Python?\n",
        "#it means that all objects that can be assigned to a name can also be treated as dats.\n",
        "#data can be stored as a varible, passed through arguements, etc...\n",
        "# Explain by typing in the code to create and use the 'items' dictionary shown in section 4.6.\n",
        "import math\n",
        "items['func']  = abs\n",
        "import math\n",
        "items['mod']   = math\n",
        "items['error'] = ValueError\n",
        "nums = [1,2,3,4]\n",
        "items['append'] = nums.append\n",
        "# Explain each of the lines starting with '>>>' in the section.\n",
        "'''\n",
        "items['func'](-45) allows the user to run absoulte value\n",
        "items['mod'].sqrt(4) allows the user to squareroot a value\n",
        "try: define code that may raise an exception\n",
        "items['append'](100) puts 100 to the end of the list\n",
        "line = 'ACME,100,490.10' is a line of text stored in line\n",
        "column_types = [str, int, float] stores the value types you need for line\n",
        "parts = line.split(',') = splits the line into substrings\n",
        "row = [ty(val) for ty, val in zip(column_types, parts)] = pulls everything together\n",
        "to make a new list called row and apply colum types and parts\n",
        "'''"
      ],
      "metadata": {
        "id": "9LRpP06Vsw6n",
        "outputId": "0ad0ee0d-5a4b-4e43-836f-09c2965c7936",
        "colab": {
          "base_uri": "https://localhost:8080/",
          "height": 227
        }
      },
      "execution_count": null,
      "outputs": [
        {
          "output_type": "error",
          "ename": "NameError",
          "evalue": "ignored",
          "traceback": [
            "\u001b[0;31m---------------------------------------------------------------------------\u001b[0m",
            "\u001b[0;31mNameError\u001b[0m                                 Traceback (most recent call last)",
            "\u001b[0;32m<ipython-input-9-a6e6fe2ea21f>\u001b[0m in \u001b[0;36m<cell line: 8>\u001b[0;34m()\u001b[0m\n\u001b[1;32m      6\u001b[0m \u001b[0;32mimport\u001b[0m \u001b[0mmath\u001b[0m\u001b[0;34m\u001b[0m\u001b[0;34m\u001b[0m\u001b[0m\n\u001b[1;32m      7\u001b[0m \u001b[0;31m#example code\u001b[0m\u001b[0;34m\u001b[0m\u001b[0;34m\u001b[0m\u001b[0m\n\u001b[0;32m----> 8\u001b[0;31m \u001b[0mitems\u001b[0m\u001b[0;34m[\u001b[0m\u001b[0;34m'func'\u001b[0m\u001b[0;34m]\u001b[0m\u001b[0;34m(\u001b[0m\u001b[0;34m-\u001b[0m\u001b[0;36m45\u001b[0m\u001b[0;34m)\u001b[0m\u001b[0;34m\u001b[0m\u001b[0;34m\u001b[0m\u001b[0m\n\u001b[0m\u001b[1;32m      9\u001b[0m \u001b[0;31m# Explain each of the lines starting with '>>>' in the section.\u001b[0m\u001b[0;34m\u001b[0m\u001b[0;34m\u001b[0m\u001b[0m\n",
            "\u001b[0;31mNameError\u001b[0m: name 'items' is not defined"
          ]
        }
      ]
    },
    {
      "cell_type": "code",
      "source": [
        "# 4.7 Using None\n",
        "# Write a function that takes two parameters and returns their sum if they are\n",
        "#  integers or returns None if either one is not.\n",
        "\n",
        "# Put in some test code to show that your function works\n",
        "\n",
        "# INSERT YOUR CODE HERE\n",
        "def sum_int(a, b):\n",
        "  return isinstance(a, int) and isinstance(b, int) and a + b or None\n",
        "\n",
        "result = sum_int(6, 9)\n",
        "result1 = sum_int('Nate', 4)\n",
        "print(result)\n",
        "print(result1)"
      ],
      "metadata": {
        "id": "dUhRWGnCtewU",
        "colab": {
          "base_uri": "https://localhost:8080/"
        },
        "outputId": "658c161e-ac63-4c6c-9ceb-cd60498ebe2c"
      },
      "execution_count": 2,
      "outputs": [
        {
          "output_type": "stream",
          "name": "stdout",
          "text": [
            "15\n",
            "None\n"
          ]
        }
      ]
    },
    {
      "cell_type": "code",
      "source": [
        "# 4.9 Object Protocol\n",
        "# Create a simple object that has methods for:\n",
        "#  __new__\n",
        "#  __init__\n",
        "#  __del__\n",
        "#  __repr__\n",
        "#  __str__\n",
        "\n",
        "# Put in some test code to show how and when each of these 'magic' functions gets called.\n",
        "\n",
        "# INSERT YOUR CODE HERE\n",
        "class Protocol:\n",
        "  def __new__(cls, *args, **kwargs):\n",
        "    instance = super(Protocol, cls).__new__(cls)\n",
        "    return instance\n",
        "\n",
        "  def __init__(self, *args, **kwargs):\n",
        "    if args:\n",
        "      self.name = args[0]\n",
        "    elif 'name' in kwargs:\n",
        "      self.name = kwargs['name']\n",
        "    else:\n",
        "      self.name = 'John'\n",
        "\n",
        "  def __del__(self):\n",
        "    print(f\"{self.name}\")\n",
        "    return None\n",
        "\n",
        "  def __repr__(self):\n",
        "    return f\"(name = {self.name})\"\n",
        "\n",
        "  def __str__(self):\n",
        "    return f\"{self.name}\"\n",
        "\n",
        "obj = Protocol('Nate')\n",
        "print(repr(obj))\n",
        "print(str(obj))\n",
        "\n",
        "del obj\n"
      ],
      "metadata": {
        "id": "4M-CQevEt2xQ",
        "colab": {
          "base_uri": "https://localhost:8080/"
        },
        "outputId": "6c1f6259-b883-479c-f0b7-c4d4c1f8755f"
      },
      "execution_count": 12,
      "outputs": [
        {
          "output_type": "stream",
          "name": "stdout",
          "text": [
            "(name = Nate)\n",
            "Nate\n",
            "Nate\n"
          ]
        }
      ]
    }
  ]
}