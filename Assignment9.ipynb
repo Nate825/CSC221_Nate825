{
  "nbformat": 4,
  "nbformat_minor": 0,
  "metadata": {
    "colab": {
      "provenance": [],
      "authorship_tag": "ABX9TyOPlPxIf+JhNBb8m3yc8boF",
      "include_colab_link": true
    },
    "kernelspec": {
      "name": "python3",
      "display_name": "Python 3"
    },
    "language_info": {
      "name": "python"
    }
  },
  "cells": [
    {
      "cell_type": "markdown",
      "metadata": {
        "id": "view-in-github",
        "colab_type": "text"
      },
      "source": [
        "<a href=\"https://colab.research.google.com/github/Nate825/CSC221_Nate825/blob/main/Assignment9.ipynb\" target=\"_parent\"><img src=\"https://colab.research.google.com/assets/colab-badge.svg\" alt=\"Open In Colab\"/></a>"
      ]
    },
    {
      "cell_type": "code",
      "execution_count": null,
      "metadata": {
        "colab": {
          "base_uri": "https://localhost:8080/"
        },
        "id": "IhNSs1MmA4_Q",
        "outputId": "ebbb61d4-40e7-497c-cd5e-316139fd64c7"
      },
      "outputs": [
        {
          "output_type": "stream",
          "name": "stdout",
          "text": [
            " One of my favorite books is, Alice in wonderland.\n"
          ]
        }
      ],
      "source": [
        "def favorite_book(title):\n",
        "  print(f\" One of my favorite books is, {title}.\")\n",
        "\n",
        "favorite_book('Alice in wonderland')"
      ]
    },
    {
      "cell_type": "code",
      "source": [
        "def make_shirt(text_message, size = 'Large'):\n",
        "  print(f'The size of the t shirt will be {size}.')\n",
        "  print(f'The shirt will read {text_message}.')\n",
        "make_shirt(text_message='Have a great day')"
      ],
      "metadata": {
        "colab": {
          "base_uri": "https://localhost:8080/"
        },
        "id": "7UEkY2kYB3X1",
        "outputId": "4140bd3d-67e3-4166-9bcd-46d1e3ec8867"
      },
      "execution_count": null,
      "outputs": [
        {
          "output_type": "stream",
          "name": "stdout",
          "text": [
            "The size of the t shirt will be Large.\n",
            "The shirt will read Have a great day.\n"
          ]
        }
      ]
    },
    {
      "cell_type": "code",
      "source": [
        "def make_shirt(size='Large', text_message='I love Python'):\n",
        "  print(f'The size of the t shirt will be {size}')\n",
        "  print(f'The shirt will read \"{text_message}')\n",
        "make_shirt()\n",
        "make_shirt(size='Medium')\n",
        "make_shirt(size='Small', text_message='Have a great day')"
      ],
      "metadata": {
        "colab": {
          "base_uri": "https://localhost:8080/"
        },
        "id": "yv2lU03KexGJ",
        "outputId": "d0a6d2c4-7874-4ee5-eada-58e9bd0c5a8f"
      },
      "execution_count": null,
      "outputs": [
        {
          "output_type": "stream",
          "name": "stdout",
          "text": [
            "The size of the t shirt will be Large\n",
            "The shirt will read \"I love Python\n",
            "The size of the t shirt will be Medium\n",
            "The shirt will read \"I love Python\n",
            "The size of the t shirt will be Small\n",
            "The shirt will read \"Have a great day\n"
          ]
        }
      ]
    },
    {
      "cell_type": "code",
      "source": [
        "def make_car(manufacturer, model, **dictonary):\n",
        "  dictonary['manufacturer'] = manufacturer\n",
        "  dictonary['model'] = model\n",
        "  return dictonary\n",
        "\n",
        "car = make_car('subaru', 'outback', color='blue', tow_package=True)\n",
        "print(car)"
      ],
      "metadata": {
        "colab": {
          "base_uri": "https://localhost:8080/"
        },
        "id": "fYvsy_grmjTA",
        "outputId": "0be099d9-bc37-473e-f737-050924b33432"
      },
      "execution_count": null,
      "outputs": [
        {
          "output_type": "stream",
          "name": "stdout",
          "text": [
            "{'color': 'blue', 'tow_package': True, 'manufacturer': 'subaru', 'model': 'outback'}\n"
          ]
        }
      ]
    },
    {
      "cell_type": "code",
      "source": [
        "import math\n",
        "\n",
        "def sum_sorted(num1, num2=math.pi):\n",
        "  num_sum = num1  + num2\n",
        "  sorted_nums = sorted([num1, num2])\n",
        "  return num_sum, sorted_nums\n",
        "\n",
        "result1 = sum_sorted(5)\n",
        "result2 = sum_sorted(2,7)\n",
        "print(\"Result 1:\")\n",
        "print(\"Sum:\", result1[0])\n",
        "print(\"Sorted Numbers:\", result1[1])\n",
        "print(\"Result 2:\")\n",
        "print(\"Sum:\", result2[0])\n",
        "print(\"Sorted Numbers:\", result2[1])\n"
      ],
      "metadata": {
        "colab": {
          "base_uri": "https://localhost:8080/"
        },
        "id": "RTRCqTmKn3T8",
        "outputId": "79be1a55-c1a9-4813-caf7-98c0151ab5ba"
      },
      "execution_count": 2,
      "outputs": [
        {
          "output_type": "stream",
          "name": "stdout",
          "text": [
            "Result 1:\n",
            "Sum: 8.141592653589793\n",
            "Sorted Numbers: [3.141592653589793, 5]\n",
            "Result 2:\n",
            "Sum: 9\n",
            "Sorted Numbers: [2, 7]\n"
          ]
        }
      ]
    },
    {
      "cell_type": "code",
      "source": [
        "import math\n",
        "\n",
        "def sum_sorted(num1, num2=math.pi, verbose=False):\n",
        "  num_sum = num1 + num2\n",
        "  sorted_nums = sorted([num1, num2])\n",
        "\n",
        "  if verbose:\n",
        "    print(f'Parameters: num1={num1}, num2={num2}')\n",
        "    print(f'Results: sum={num_sum}, Sorted Numbers={sorted_nums}')\n",
        "\n",
        "  return num_sum, sorted_nums\n",
        "\n",
        "result1 = sum_sorted(5, verbose=True)\n",
        "result2 = sum_sorted(2,7)\n"
      ],
      "metadata": {
        "id": "GjVhwneXo6VM",
        "colab": {
          "base_uri": "https://localhost:8080/"
        },
        "outputId": "80c18c2d-5b5e-4c5f-e49b-3608dff30e68"
      },
      "execution_count": 6,
      "outputs": [
        {
          "output_type": "stream",
          "name": "stdout",
          "text": [
            "Parameters: num1=5, num2=3.141592653589793\n",
            "Results: sum=8.141592653589793, Sorted Numbers=[3.141592653589793, 5]\n"
          ]
        }
      ]
    }
  ]
}